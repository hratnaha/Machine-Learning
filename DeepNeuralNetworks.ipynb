{
 "cells": [
  {
   "cell_type": "markdown",
   "metadata": {},
   "source": [
    "# Big Picture"
   ]
  },
  {
   "cell_type": "markdown",
   "metadata": {},
   "source": [
    "As said in the Hands On Machine Learning book by Aurelien Geron, Artifical Neural Network are versatile, powerful, and scalable making them great for tackling tasks such as classifyuing billions of images. This got me to think about the MNIST dataset and by extension, the FMNIST dataset which I used in my project 3. Creating a neural network for this project will give me more control over how the model runs to acheive high accuracy as well as give it a stronger architecture so that if I add more images to the dataset the accuracy increases. "
   ]
  },
  {
   "cell_type": "markdown",
   "metadata": {},
   "source": [
    "# Get The Data"
   ]
  },
  {
   "cell_type": "markdown",
   "metadata": {},
   "source": [
    "## Load Data and Libraries"
   ]
  },
  {
   "cell_type": "code",
   "execution_count": 131,
   "metadata": {},
   "outputs": [],
   "source": [
    "import tensorflow as tf\n",
    "import numpy as np\n",
    "import pandas as pd\n",
    "\n",
    "def reset_graph(seed=42):\n",
    "    tf.reset_default_graph()\n",
    "    tf.set_random_seed(seed)\n",
    "    np.random.seed(seed)\n",
    "\n",
    "data_train = pd.read_csv('fashion-mnist_train.csv')\n",
    "data_test = pd.read_csv('fashion-mnist_test.csv')"
   ]
  },
  {
   "cell_type": "markdown",
   "metadata": {},
   "source": [
    "https://www.kaggle.com/zalando-research/fashionmnist"
   ]
  },
  {
   "cell_type": "code",
   "execution_count": 132,
   "metadata": {},
   "outputs": [
    {
     "name": "stdout",
     "output_type": "stream",
     "text": [
      "<class 'pandas.core.frame.DataFrame'>\n",
      "RangeIndex: 60000 entries, 0 to 59999\n",
      "Columns: 785 entries, label to pixel784\n",
      "dtypes: int64(785)\n",
      "memory usage: 359.3 MB\n",
      "<class 'pandas.core.frame.DataFrame'>\n",
      "RangeIndex: 10000 entries, 0 to 9999\n",
      "Columns: 785 entries, label to pixel784\n",
      "dtypes: int64(785)\n",
      "memory usage: 59.9 MB\n",
      "None None\n"
     ]
    }
   ],
   "source": [
    "print(data_train.info(), \n",
    "       data_test.info())"
   ]
  },
  {
   "cell_type": "markdown",
   "metadata": {},
   "source": [
    "## Features"
   ]
  },
  {
   "cell_type": "code",
   "execution_count": 133,
   "metadata": {},
   "outputs": [
    {
     "name": "stdout",
     "output_type": "stream",
     "text": [
      "<class 'pandas.core.frame.DataFrame'>\n",
      "RangeIndex: 60000 entries, 0 to 59999\n",
      "Columns: 785 entries, label to pixel784\n",
      "dtypes: int64(785)\n",
      "memory usage: 359.3 MB\n"
     ]
    }
   ],
   "source": [
    "data_train.info()"
   ]
  },
  {
   "cell_type": "markdown",
   "metadata": {},
   "source": [
    "# Large-scale Visualization"
   ]
  },
  {
   "cell_type": "markdown",
   "metadata": {},
   "source": [
    "It is hard to show non-linear seperation of data that are merely pixels associated with a label"
   ]
  },
  {
   "cell_type": "markdown",
   "metadata": {},
   "source": [
    "# Construction Phase"
   ]
  },
  {
   "cell_type": "markdown",
   "metadata": {},
   "source": [
    "## Splitting the data"
   ]
  },
  {
   "cell_type": "code",
   "execution_count": 134,
   "metadata": {},
   "outputs": [],
   "source": [
    "X_train = data_train.iloc[:,1:785].as_matrix()\n",
    "X_test = data_test.iloc[:,1:785].as_matrix()\n",
    "y_train = data_train['label']\n",
    "y_test = data_test['label']"
   ]
  },
  {
   "cell_type": "markdown",
   "metadata": {},
   "source": [
    "## Model 1: "
   ]
  },
  {
   "cell_type": "markdown",
   "metadata": {},
   "source": [
    "For this model I want to try the same number of neurons on 2 hidden layers as was used on the MNIST dataset to create a standard to compare to. In this case it is 300 number of neurons for the first hidden layer and 100 for the next."
   ]
  },
  {
   "cell_type": "code",
   "execution_count": 135,
   "metadata": {},
   "outputs": [],
   "source": [
    "feature_cols = tf.contrib.learn.infer_real_valued_columns_from_input(X_train)"
   ]
  },
  {
   "cell_type": "code",
   "execution_count": 136,
   "metadata": {},
   "outputs": [
    {
     "name": "stdout",
     "output_type": "stream",
     "text": [
      "INFO:tensorflow:Using default config.\n",
      "WARNING:tensorflow:Using temporary folder as model directory: C:\\Users\\Owner\\AppData\\Local\\Temp\\tmp2o9nggf1\n",
      "INFO:tensorflow:Using config: {'_task_type': None, '_task_id': 0, '_cluster_spec': <tensorflow.python.training.server_lib.ClusterSpec object at 0x000001FE2C00B160>, '_master': '', '_num_ps_replicas': 0, '_num_worker_replicas': 0, '_environment': 'local', '_is_chief': True, '_evaluation_master': '', '_tf_config': gpu_options {\n",
      "  per_process_gpu_memory_fraction: 1\n",
      "}\n",
      ", '_tf_random_seed': None, '_save_summary_steps': 100, '_save_checkpoints_secs': 600, '_session_config': None, '_save_checkpoints_steps': None, '_keep_checkpoint_max': 5, '_keep_checkpoint_every_n_hours': 10000, '_model_dir': 'C:\\\\Users\\\\Owner\\\\AppData\\\\Local\\\\Temp\\\\tmp2o9nggf1'}\n"
     ]
    }
   ],
   "source": [
    "dnn_clf = tf.contrib.learn.DNNClassifier(hidden_units=[300,100], n_classes=10,\n",
    "                                        feature_columns=feature_cols)"
   ]
  },
  {
   "cell_type": "code",
   "execution_count": 137,
   "metadata": {},
   "outputs": [],
   "source": [
    "dnn_clf = tf.contrib.learn.SKCompat(dnn_clf)"
   ]
  },
  {
   "cell_type": "code",
   "execution_count": 138,
   "metadata": {},
   "outputs": [
    {
     "name": "stdout",
     "output_type": "stream",
     "text": [
      "WARNING:tensorflow:From C:\\Users\\Owner\\Anaconda3\\lib\\site-packages\\tensorflow\\contrib\\learn\\python\\learn\\estimators\\head.py:625: scalar_summary (from tensorflow.python.ops.logging_ops) is deprecated and will be removed after 2016-11-30.\n",
      "Instructions for updating:\n",
      "Please switch to tf.summary.scalar. Note that tf.summary.scalar uses the node name instead of the tag. This means that TensorFlow will automatically de-duplicate summary names based on the scope they are created in. Also, passing a tensor or list of tags to a scalar summary op is no longer supported.\n",
      "INFO:tensorflow:Create CheckpointSaverHook.\n",
      "INFO:tensorflow:Saving checkpoints for 1 into C:\\Users\\Owner\\AppData\\Local\\Temp\\tmp2o9nggf1\\model.ckpt.\n",
      "INFO:tensorflow:loss = 294.27618, step = 1\n",
      "INFO:tensorflow:global_step/sec: 204.73\n",
      "INFO:tensorflow:loss = 2.0616934, step = 101 (0.473 sec)\n",
      "INFO:tensorflow:global_step/sec: 213.264\n",
      "INFO:tensorflow:loss = 1.0950744, step = 201 (0.469 sec)\n",
      "INFO:tensorflow:global_step/sec: 219.687\n",
      "INFO:tensorflow:loss = 0.97789854, step = 301 (0.455 sec)\n",
      "INFO:tensorflow:global_step/sec: 227.302\n",
      "INFO:tensorflow:loss = 1.0571121, step = 401 (0.458 sec)\n",
      "INFO:tensorflow:global_step/sec: 217.189\n",
      "INFO:tensorflow:loss = 1.0824114, step = 501 (0.458 sec)\n",
      "INFO:tensorflow:global_step/sec: 214.518\n",
      "INFO:tensorflow:loss = 0.74619234, step = 601 (0.455 sec)\n",
      "INFO:tensorflow:global_step/sec: 213.321\n",
      "INFO:tensorflow:loss = 0.7214804, step = 701 (0.469 sec)\n",
      "INFO:tensorflow:global_step/sec: 214.212\n",
      "INFO:tensorflow:loss = 1.7016085, step = 801 (0.463 sec)\n",
      "INFO:tensorflow:global_step/sec: 221.198\n",
      "INFO:tensorflow:loss = 0.99188024, step = 901 (0.452 sec)\n",
      "INFO:tensorflow:global_step/sec: 225.21\n",
      "INFO:tensorflow:loss = 1.0325501, step = 1001 (0.444 sec)\n",
      "INFO:tensorflow:global_step/sec: 214.079\n",
      "INFO:tensorflow:loss = 0.4531939, step = 1101 (0.467 sec)\n",
      "INFO:tensorflow:global_step/sec: 222.347\n",
      "INFO:tensorflow:loss = 1.1600224, step = 1201 (0.450 sec)\n",
      "INFO:tensorflow:global_step/sec: 214.419\n",
      "INFO:tensorflow:loss = 1.185745, step = 1301 (0.470 sec)\n",
      "INFO:tensorflow:global_step/sec: 227.891\n",
      "INFO:tensorflow:loss = 0.44893825, step = 1401 (0.450 sec)\n",
      "INFO:tensorflow:global_step/sec: 217.144\n",
      "INFO:tensorflow:loss = 1.2356365, step = 1501 (0.461 sec)\n",
      "INFO:tensorflow:global_step/sec: 216.087\n",
      "INFO:tensorflow:loss = 0.68794096, step = 1601 (0.447 sec)\n",
      "INFO:tensorflow:global_step/sec: 221.813\n",
      "INFO:tensorflow:loss = 0.49391758, step = 1701 (0.466 sec)\n",
      "INFO:tensorflow:global_step/sec: 216.553\n",
      "INFO:tensorflow:loss = 0.7581119, step = 1801 (0.446 sec)\n",
      "INFO:tensorflow:global_step/sec: 223.415\n",
      "INFO:tensorflow:loss = 0.5409469, step = 1901 (0.463 sec)\n",
      "INFO:tensorflow:global_step/sec: 214.418\n",
      "INFO:tensorflow:loss = 0.83361894, step = 2001 (0.451 sec)\n",
      "INFO:tensorflow:global_step/sec: 220.195\n",
      "INFO:tensorflow:loss = 1.1785184, step = 2101 (0.454 sec)\n",
      "INFO:tensorflow:global_step/sec: 212.508\n",
      "INFO:tensorflow:loss = 0.47107184, step = 2201 (0.475 sec)\n",
      "INFO:tensorflow:global_step/sec: 211.859\n",
      "INFO:tensorflow:loss = 0.62331426, step = 2301 (0.468 sec)\n",
      "INFO:tensorflow:global_step/sec: 213.6\n",
      "INFO:tensorflow:loss = 0.93498075, step = 2401 (0.468 sec)\n",
      "INFO:tensorflow:global_step/sec: 226.905\n",
      "INFO:tensorflow:loss = 0.6194178, step = 2501 (0.456 sec)\n",
      "INFO:tensorflow:global_step/sec: 215.159\n",
      "INFO:tensorflow:loss = 0.168307, step = 2601 (0.449 sec)\n",
      "INFO:tensorflow:global_step/sec: 217.76\n",
      "INFO:tensorflow:loss = 0.3831443, step = 2701 (0.459 sec)\n",
      "INFO:tensorflow:global_step/sec: 227.414\n",
      "INFO:tensorflow:loss = 0.3617246, step = 2801 (0.455 sec)\n",
      "INFO:tensorflow:global_step/sec: 214.069\n",
      "INFO:tensorflow:loss = 0.77991974, step = 2901 (0.452 sec)\n",
      "INFO:tensorflow:global_step/sec: 219.778\n",
      "INFO:tensorflow:loss = 1.1071066, step = 3001 (0.455 sec)\n",
      "INFO:tensorflow:global_step/sec: 216.562\n",
      "INFO:tensorflow:loss = 1.2392789, step = 3101 (0.462 sec)\n",
      "INFO:tensorflow:global_step/sec: 219.564\n",
      "INFO:tensorflow:loss = 0.374508, step = 3201 (0.471 sec)\n",
      "INFO:tensorflow:global_step/sec: 210.544\n",
      "INFO:tensorflow:loss = 0.45325646, step = 3301 (0.459 sec)\n",
      "INFO:tensorflow:global_step/sec: 225.277\n",
      "INFO:tensorflow:loss = 0.40155733, step = 3401 (0.444 sec)\n",
      "INFO:tensorflow:global_step/sec: 216.049\n",
      "INFO:tensorflow:loss = 1.0115178, step = 3501 (0.467 sec)\n",
      "INFO:tensorflow:global_step/sec: 225.387\n",
      "INFO:tensorflow:loss = 0.7425971, step = 3601 (0.440 sec)\n",
      "INFO:tensorflow:global_step/sec: 215.15\n",
      "INFO:tensorflow:loss = 0.6822777, step = 3701 (0.469 sec)\n",
      "INFO:tensorflow:global_step/sec: 214.873\n",
      "INFO:tensorflow:loss = 0.5475336, step = 3801 (0.465 sec)\n",
      "INFO:tensorflow:global_step/sec: 212.712\n",
      "INFO:tensorflow:loss = 0.60245454, step = 3901 (0.466 sec)\n",
      "INFO:tensorflow:Saving checkpoints for 4000 into C:\\Users\\Owner\\AppData\\Local\\Temp\\tmp2o9nggf1\\model.ckpt.\n",
      "INFO:tensorflow:Loss for final step: 0.81670356.\n"
     ]
    },
    {
     "data": {
      "text/plain": [
       "SKCompat()"
      ]
     },
     "execution_count": 138,
     "metadata": {},
     "output_type": "execute_result"
    }
   ],
   "source": [
    "dnn_clf.fit(X_train, y_train, batch_size=25, steps=4000)"
   ]
  },
  {
   "cell_type": "code",
   "execution_count": 139,
   "metadata": {},
   "outputs": [],
   "source": [
    "from sklearn.metrics import accuracy_score"
   ]
  },
  {
   "cell_type": "code",
   "execution_count": 140,
   "metadata": {},
   "outputs": [
    {
     "name": "stdout",
     "output_type": "stream",
     "text": [
      "INFO:tensorflow:Restoring parameters from C:\\Users\\Owner\\AppData\\Local\\Temp\\tmp2o9nggf1\\model.ckpt-4000\n"
     ]
    }
   ],
   "source": [
    "y_pred = dnn_clf.predict(X_test)"
   ]
  },
  {
   "cell_type": "code",
   "execution_count": 141,
   "metadata": {},
   "outputs": [
    {
     "name": "stdout",
     "output_type": "stream",
     "text": [
      "78.79\n"
     ]
    }
   ],
   "source": [
    "accuracy = accuracy_score(y_test, y_pred['classes'])\n",
    "print (accuracy*100)"
   ]
  },
  {
   "cell_type": "markdown",
   "metadata": {},
   "source": [
    "With the standard model we get a accuracy score of 70%. Not bad but this model gets 98% accuracy with the MNIST dataset."
   ]
  },
  {
   "cell_type": "markdown",
   "metadata": {},
   "source": [
    "## Model 2:"
   ]
  },
  {
   "cell_type": "markdown",
   "metadata": {},
   "source": [
    "For the next model I will change the number of inputs by 50 but keep the batch size and number of iterations the same."
   ]
  },
  {
   "cell_type": "code",
   "execution_count": 142,
   "metadata": {},
   "outputs": [
    {
     "name": "stdout",
     "output_type": "stream",
     "text": [
      "INFO:tensorflow:Using default config.\n",
      "WARNING:tensorflow:Using temporary folder as model directory: C:\\Users\\Owner\\AppData\\Local\\Temp\\tmp8qjx5i8s\n",
      "INFO:tensorflow:Using config: {'_task_type': None, '_task_id': 0, '_cluster_spec': <tensorflow.python.training.server_lib.ClusterSpec object at 0x000001FE22730D30>, '_master': '', '_num_ps_replicas': 0, '_num_worker_replicas': 0, '_environment': 'local', '_is_chief': True, '_evaluation_master': '', '_tf_config': gpu_options {\n",
      "  per_process_gpu_memory_fraction: 1\n",
      "}\n",
      ", '_tf_random_seed': None, '_save_summary_steps': 100, '_save_checkpoints_secs': 600, '_session_config': None, '_save_checkpoints_steps': None, '_keep_checkpoint_max': 5, '_keep_checkpoint_every_n_hours': 10000, '_model_dir': 'C:\\\\Users\\\\Owner\\\\AppData\\\\Local\\\\Temp\\\\tmp8qjx5i8s'}\n"
     ]
    }
   ],
   "source": [
    "dnn_clf_model2 = tf.contrib.learn.DNNClassifier(hidden_units=[300,100], n_classes=10,\n",
    "                                        feature_columns=feature_cols)"
   ]
  },
  {
   "cell_type": "code",
   "execution_count": 143,
   "metadata": {},
   "outputs": [],
   "source": [
    "dnn_clf_model2 = tf.contrib.learn.SKCompat(dnn_clf_model2)"
   ]
  },
  {
   "cell_type": "code",
   "execution_count": 144,
   "metadata": {},
   "outputs": [
    {
     "name": "stdout",
     "output_type": "stream",
     "text": [
      "WARNING:tensorflow:From C:\\Users\\Owner\\Anaconda3\\lib\\site-packages\\tensorflow\\contrib\\learn\\python\\learn\\estimators\\head.py:625: scalar_summary (from tensorflow.python.ops.logging_ops) is deprecated and will be removed after 2016-11-30.\n",
      "Instructions for updating:\n",
      "Please switch to tf.summary.scalar. Note that tf.summary.scalar uses the node name instead of the tag. This means that TensorFlow will automatically de-duplicate summary names based on the scope they are created in. Also, passing a tensor or list of tags to a scalar summary op is no longer supported.\n",
      "INFO:tensorflow:Create CheckpointSaverHook.\n",
      "INFO:tensorflow:Saving checkpoints for 1 into C:\\Users\\Owner\\AppData\\Local\\Temp\\tmp8qjx5i8s\\model.ckpt.\n",
      "INFO:tensorflow:loss = 150.84157, step = 1\n",
      "INFO:tensorflow:global_step/sec: 149.025\n",
      "INFO:tensorflow:loss = 2.9580784, step = 101 (0.667 sec)\n",
      "INFO:tensorflow:global_step/sec: 213.891\n",
      "INFO:tensorflow:loss = 1.1566364, step = 201 (0.483 sec)\n",
      "INFO:tensorflow:global_step/sec: 216.076\n",
      "INFO:tensorflow:loss = 0.96640253, step = 301 (0.447 sec)\n",
      "INFO:tensorflow:global_step/sec: 219.99\n",
      "INFO:tensorflow:loss = 1.7397907, step = 401 (0.470 sec)\n",
      "INFO:tensorflow:global_step/sec: 215.178\n",
      "INFO:tensorflow:loss = 1.4061166, step = 501 (0.449 sec)\n",
      "INFO:tensorflow:global_step/sec: 219.409\n",
      "INFO:tensorflow:loss = 1.0509534, step = 601 (0.456 sec)\n",
      "INFO:tensorflow:global_step/sec: 221.601\n",
      "INFO:tensorflow:loss = 0.76800895, step = 701 (0.451 sec)\n",
      "INFO:tensorflow:global_step/sec: 221.95\n",
      "INFO:tensorflow:loss = 0.98221797, step = 801 (0.451 sec)\n",
      "INFO:tensorflow:global_step/sec: 221.621\n",
      "INFO:tensorflow:loss = 2.707016, step = 901 (0.451 sec)\n",
      "INFO:tensorflow:global_step/sec: 214.761\n",
      "INFO:tensorflow:loss = 1.1547654, step = 1001 (0.466 sec)\n",
      "INFO:tensorflow:global_step/sec: 222.831\n",
      "INFO:tensorflow:loss = 0.50090957, step = 1101 (0.449 sec)\n",
      "INFO:tensorflow:global_step/sec: 219.977\n",
      "INFO:tensorflow:loss = 0.846322, step = 1201 (0.455 sec)\n",
      "INFO:tensorflow:global_step/sec: 218.763\n",
      "INFO:tensorflow:loss = 1.1623776, step = 1301 (0.473 sec)\n",
      "INFO:tensorflow:global_step/sec: 210.415\n",
      "INFO:tensorflow:loss = 0.53669256, step = 1401 (0.464 sec)\n",
      "INFO:tensorflow:global_step/sec: 213.411\n",
      "INFO:tensorflow:loss = 0.48424107, step = 1501 (0.469 sec)\n",
      "INFO:tensorflow:global_step/sec: 217.624\n",
      "INFO:tensorflow:loss = 0.7544329, step = 1601 (0.456 sec)\n",
      "INFO:tensorflow:global_step/sec: 217.824\n",
      "INFO:tensorflow:loss = 0.42867935, step = 1701 (0.464 sec)\n",
      "INFO:tensorflow:global_step/sec: 220.139\n",
      "INFO:tensorflow:loss = 0.7494661, step = 1801 (0.450 sec)\n",
      "INFO:tensorflow:global_step/sec: 220.757\n",
      "INFO:tensorflow:loss = 0.47379598, step = 1901 (0.453 sec)\n",
      "INFO:tensorflow:global_step/sec: 222.607\n",
      "INFO:tensorflow:loss = 0.67419595, step = 2001 (0.449 sec)\n",
      "INFO:tensorflow:global_step/sec: 217.504\n",
      "INFO:tensorflow:loss = 0.98210216, step = 2101 (0.460 sec)\n",
      "INFO:tensorflow:global_step/sec: 224.286\n",
      "INFO:tensorflow:loss = 0.66924685, step = 2201 (0.446 sec)\n",
      "INFO:tensorflow:global_step/sec: 220.151\n",
      "INFO:tensorflow:loss = 0.8077566, step = 2301 (0.470 sec)\n",
      "INFO:tensorflow:global_step/sec: 219.935\n",
      "INFO:tensorflow:loss = 0.9997853, step = 2401 (0.455 sec)\n",
      "INFO:tensorflow:global_step/sec: 215.62\n",
      "INFO:tensorflow:loss = 0.6837628, step = 2501 (0.448 sec)\n",
      "INFO:tensorflow:global_step/sec: 223.174\n",
      "INFO:tensorflow:loss = 0.40191147, step = 2601 (0.448 sec)\n",
      "INFO:tensorflow:global_step/sec: 221.538\n",
      "INFO:tensorflow:loss = 0.44774693, step = 2701 (0.451 sec)\n",
      "INFO:tensorflow:global_step/sec: 217.576\n",
      "INFO:tensorflow:loss = 0.40689906, step = 2801 (0.460 sec)\n",
      "INFO:tensorflow:global_step/sec: 214.229\n",
      "INFO:tensorflow:loss = 0.6834567, step = 2901 (0.471 sec)\n",
      "INFO:tensorflow:global_step/sec: 211.081\n",
      "INFO:tensorflow:loss = 0.9386337, step = 3001 (0.470 sec)\n",
      "INFO:tensorflow:global_step/sec: 214.938\n",
      "INFO:tensorflow:loss = 0.8883256, step = 3101 (0.466 sec)\n",
      "INFO:tensorflow:global_step/sec: 220.032\n",
      "INFO:tensorflow:loss = 0.30482715, step = 3201 (0.454 sec)\n",
      "INFO:tensorflow:global_step/sec: 219.961\n",
      "INFO:tensorflow:loss = 0.84162927, step = 3301 (0.455 sec)\n",
      "INFO:tensorflow:global_step/sec: 218.323\n",
      "INFO:tensorflow:loss = 0.54448175, step = 3401 (0.458 sec)\n",
      "INFO:tensorflow:global_step/sec: 219.951\n",
      "INFO:tensorflow:loss = 0.81103736, step = 3501 (0.470 sec)\n",
      "INFO:tensorflow:global_step/sec: 210.761\n",
      "INFO:tensorflow:loss = 0.6952435, step = 3601 (0.459 sec)\n",
      "INFO:tensorflow:global_step/sec: 219.778\n",
      "INFO:tensorflow:loss = 0.3660646, step = 3701 (0.455 sec)\n",
      "INFO:tensorflow:global_step/sec: 219.342\n",
      "INFO:tensorflow:loss = 0.8009529, step = 3801 (0.456 sec)\n",
      "INFO:tensorflow:global_step/sec: 219.419\n",
      "INFO:tensorflow:loss = 0.22404198, step = 3901 (0.456 sec)\n",
      "INFO:tensorflow:Saving checkpoints for 4000 into C:\\Users\\Owner\\AppData\\Local\\Temp\\tmp8qjx5i8s\\model.ckpt.\n",
      "INFO:tensorflow:Loss for final step: 0.90621644.\n"
     ]
    },
    {
     "data": {
      "text/plain": [
       "SKCompat()"
      ]
     },
     "execution_count": 144,
     "metadata": {},
     "output_type": "execute_result"
    }
   ],
   "source": [
    "dnn_clf_model2.fit(X_train, y_train, batch_size=25, steps=4000)"
   ]
  },
  {
   "cell_type": "code",
   "execution_count": 145,
   "metadata": {},
   "outputs": [
    {
     "name": "stdout",
     "output_type": "stream",
     "text": [
      "INFO:tensorflow:Restoring parameters from C:\\Users\\Owner\\AppData\\Local\\Temp\\tmp8qjx5i8s\\model.ckpt-4000\n"
     ]
    }
   ],
   "source": [
    "y_pred = dnn_clf_model2.predict(X_test)"
   ]
  },
  {
   "cell_type": "code",
   "execution_count": 146,
   "metadata": {},
   "outputs": [
    {
     "name": "stdout",
     "output_type": "stream",
     "text": [
      "77.83\n"
     ]
    }
   ],
   "source": [
    "accuracy = accuracy_score(y_test, y_pred['classes'])\n",
    "print (accuracy*100)"
   ]
  },
  {
   "cell_type": "markdown",
   "metadata": {},
   "source": [
    "I ran both models multiple times and got different results every time. However, model 2 came out with higher accuracy than the first model every time. This confirms that increase the number of neurons does increase the accuracy of the model but not by much. For the next model I want to increase the number of iterations."
   ]
  },
  {
   "cell_type": "markdown",
   "metadata": {},
   "source": [
    "## Model 3"
   ]
  },
  {
   "cell_type": "markdown",
   "metadata": {},
   "source": [
    "This model will look at the steps parameter. I will change it from 4000 to 40,000 muliplying the parameter by 10. "
   ]
  },
  {
   "cell_type": "code",
   "execution_count": 154,
   "metadata": {},
   "outputs": [
    {
     "name": "stdout",
     "output_type": "stream",
     "text": [
      "INFO:tensorflow:Using default config.\n",
      "WARNING:tensorflow:Using temporary folder as model directory: C:\\Users\\Owner\\AppData\\Local\\Temp\\tmpkt89o0q7\n",
      "INFO:tensorflow:Using config: {'_task_type': None, '_task_id': 0, '_cluster_spec': <tensorflow.python.training.server_lib.ClusterSpec object at 0x000001FE2D022B38>, '_master': '', '_num_ps_replicas': 0, '_num_worker_replicas': 0, '_environment': 'local', '_is_chief': True, '_evaluation_master': '', '_tf_config': gpu_options {\n",
      "  per_process_gpu_memory_fraction: 1\n",
      "}\n",
      ", '_tf_random_seed': None, '_save_summary_steps': 100, '_save_checkpoints_secs': 600, '_session_config': None, '_save_checkpoints_steps': None, '_keep_checkpoint_max': 5, '_keep_checkpoint_every_n_hours': 10000, '_model_dir': 'C:\\\\Users\\\\Owner\\\\AppData\\\\Local\\\\Temp\\\\tmpkt89o0q7'}\n",
      "WARNING:tensorflow:From C:\\Users\\Owner\\Anaconda3\\lib\\site-packages\\tensorflow\\contrib\\learn\\python\\learn\\estimators\\head.py:625: scalar_summary (from tensorflow.python.ops.logging_ops) is deprecated and will be removed after 2016-11-30.\n",
      "Instructions for updating:\n",
      "Please switch to tf.summary.scalar. Note that tf.summary.scalar uses the node name instead of the tag. This means that TensorFlow will automatically de-duplicate summary names based on the scope they are created in. Also, passing a tensor or list of tags to a scalar summary op is no longer supported.\n",
      "INFO:tensorflow:Create CheckpointSaverHook.\n",
      "INFO:tensorflow:Saving checkpoints for 1 into C:\\Users\\Owner\\AppData\\Local\\Temp\\tmpkt89o0q7\\model.ckpt.\n",
      "INFO:tensorflow:loss = 154.43506, step = 1\n",
      "INFO:tensorflow:global_step/sec: 184.561\n",
      "INFO:tensorflow:loss = 1.6392914, step = 101 (0.542 sec)\n",
      "INFO:tensorflow:global_step/sec: 199.256\n",
      "INFO:tensorflow:loss = 1.8299923, step = 201 (0.513 sec)\n",
      "INFO:tensorflow:global_step/sec: 201.02\n",
      "INFO:tensorflow:loss = 2.9513679, step = 301 (0.482 sec)\n",
      "INFO:tensorflow:global_step/sec: 200.008\n",
      "INFO:tensorflow:loss = 1.563679, step = 401 (0.500 sec)\n",
      "INFO:tensorflow:global_step/sec: 199.598\n",
      "INFO:tensorflow:loss = 1.7838128, step = 501 (0.501 sec)\n",
      "INFO:tensorflow:global_step/sec: 198.418\n",
      "INFO:tensorflow:loss = 2.054452, step = 601 (0.504 sec)\n",
      "INFO:tensorflow:global_step/sec: 201.212\n",
      "INFO:tensorflow:loss = 1.2697157, step = 701 (0.497 sec)\n",
      "INFO:tensorflow:global_step/sec: 202.203\n",
      "INFO:tensorflow:loss = 1.1630266, step = 801 (0.495 sec)\n",
      "INFO:tensorflow:global_step/sec: 206.313\n",
      "INFO:tensorflow:loss = 3.4246967, step = 901 (0.500 sec)\n",
      "INFO:tensorflow:global_step/sec: 197.552\n",
      "INFO:tensorflow:loss = 1.6440204, step = 1001 (0.491 sec)\n",
      "INFO:tensorflow:global_step/sec: 198.267\n",
      "INFO:tensorflow:loss = 1.0801158, step = 1101 (0.504 sec)\n",
      "INFO:tensorflow:global_step/sec: 204.378\n",
      "INFO:tensorflow:loss = 1.1549833, step = 1201 (0.505 sec)\n",
      "INFO:tensorflow:global_step/sec: 200.445\n",
      "INFO:tensorflow:loss = 1.9259355, step = 1301 (0.499 sec)\n",
      "INFO:tensorflow:global_step/sec: 192.808\n",
      "INFO:tensorflow:loss = 1.0546566, step = 1401 (0.507 sec)\n",
      "INFO:tensorflow:global_step/sec: 196.845\n",
      "INFO:tensorflow:loss = 1.1797259, step = 1501 (0.508 sec)\n",
      "INFO:tensorflow:global_step/sec: 203.172\n",
      "INFO:tensorflow:loss = 1.6886013, step = 1601 (0.488 sec)\n",
      "INFO:tensorflow:global_step/sec: 197.75\n",
      "INFO:tensorflow:loss = 1.1662385, step = 1701 (0.506 sec)\n",
      "INFO:tensorflow:global_step/sec: 200.455\n",
      "INFO:tensorflow:loss = 0.66320175, step = 1801 (0.499 sec)\n",
      "INFO:tensorflow:global_step/sec: 201.847\n",
      "INFO:tensorflow:loss = 1.0670079, step = 1901 (0.495 sec)\n",
      "INFO:tensorflow:global_step/sec: 204.533\n",
      "INFO:tensorflow:loss = 0.94413805, step = 2001 (0.489 sec)\n",
      "INFO:tensorflow:global_step/sec: 201.066\n",
      "INFO:tensorflow:loss = 1.0404841, step = 2101 (0.513 sec)\n",
      "INFO:tensorflow:global_step/sec: 192.4\n",
      "INFO:tensorflow:loss = 1.0715646, step = 2201 (0.504 sec)\n",
      "INFO:tensorflow:global_step/sec: 199.073\n",
      "INFO:tensorflow:loss = 1.0831536, step = 2301 (0.502 sec)\n",
      "INFO:tensorflow:global_step/sec: 204.633\n",
      "INFO:tensorflow:loss = 0.9804246, step = 2401 (0.504 sec)\n",
      "INFO:tensorflow:global_step/sec: 194.573\n",
      "INFO:tensorflow:loss = 1.1903192, step = 2501 (0.498 sec)\n",
      "INFO:tensorflow:global_step/sec: 205.236\n",
      "INFO:tensorflow:loss = 0.9768982, step = 2601 (0.503 sec)\n",
      "INFO:tensorflow:global_step/sec: 199.147\n",
      "INFO:tensorflow:loss = 0.6834017, step = 2701 (0.486 sec)\n",
      "INFO:tensorflow:global_step/sec: 194.092\n",
      "INFO:tensorflow:loss = 0.7501387, step = 2801 (0.515 sec)\n",
      "INFO:tensorflow:global_step/sec: 196.845\n",
      "INFO:tensorflow:loss = 0.907714, step = 2901 (0.508 sec)\n",
      "INFO:tensorflow:global_step/sec: 195.615\n",
      "INFO:tensorflow:loss = 1.0535347, step = 3001 (0.511 sec)\n",
      "INFO:tensorflow:global_step/sec: 207.105\n",
      "INFO:tensorflow:loss = 0.7770683, step = 3101 (0.498 sec)\n",
      "INFO:tensorflow:global_step/sec: 200.454\n",
      "INFO:tensorflow:loss = 2.0296185, step = 3201 (0.499 sec)\n",
      "INFO:tensorflow:global_step/sec: 195.399\n",
      "INFO:tensorflow:loss = 2.6648288, step = 3301 (0.496 sec)\n",
      "INFO:tensorflow:global_step/sec: 201.342\n",
      "INFO:tensorflow:loss = 1.1499056, step = 3401 (0.497 sec)\n",
      "INFO:tensorflow:global_step/sec: 200.237\n",
      "INFO:tensorflow:loss = 0.68719923, step = 3501 (0.499 sec)\n",
      "INFO:tensorflow:global_step/sec: 199.118\n",
      "INFO:tensorflow:loss = 0.6774114, step = 3601 (0.502 sec)\n",
      "INFO:tensorflow:global_step/sec: 201.84\n",
      "INFO:tensorflow:loss = 0.9185211, step = 3701 (0.495 sec)\n",
      "INFO:tensorflow:global_step/sec: 198.631\n",
      "INFO:tensorflow:loss = 1.1898149, step = 3801 (0.519 sec)\n",
      "INFO:tensorflow:global_step/sec: 192.779\n",
      "INFO:tensorflow:loss = 1.3370832, step = 3901 (0.503 sec)\n",
      "INFO:tensorflow:global_step/sec: 202.841\n",
      "INFO:tensorflow:loss = 0.7506033, step = 4001 (0.509 sec)\n",
      "INFO:tensorflow:global_step/sec: 194.013\n",
      "INFO:tensorflow:loss = 0.99797326, step = 4101 (0.500 sec)\n",
      "INFO:tensorflow:global_step/sec: 195.818\n",
      "INFO:tensorflow:loss = 1.3423698, step = 4201 (0.515 sec)\n",
      "INFO:tensorflow:global_step/sec: 190.835\n",
      "INFO:tensorflow:loss = 1.0910788, step = 4301 (0.520 sec)\n",
      "INFO:tensorflow:global_step/sec: 201.417\n",
      "INFO:tensorflow:loss = 1.1157401, step = 4401 (0.496 sec)\n",
      "INFO:tensorflow:global_step/sec: 199.942\n",
      "INFO:tensorflow:loss = 0.9782799, step = 4501 (0.500 sec)\n",
      "INFO:tensorflow:global_step/sec: 205.578\n",
      "INFO:tensorflow:loss = 1.4218955, step = 4601 (0.486 sec)\n",
      "INFO:tensorflow:global_step/sec: 201.191\n",
      "INFO:tensorflow:loss = 1.0132372, step = 4701 (0.513 sec)\n",
      "INFO:tensorflow:global_step/sec: 200.359\n",
      "INFO:tensorflow:loss = 0.9671593, step = 4801 (0.499 sec)\n",
      "INFO:tensorflow:global_step/sec: 195.26\n",
      "INFO:tensorflow:loss = 1.0005254, step = 4901 (0.497 sec)\n",
      "INFO:tensorflow:global_step/sec: 200.687\n",
      "INFO:tensorflow:loss = 0.831278, step = 5001 (0.498 sec)\n",
      "INFO:tensorflow:global_step/sec: 205.618\n",
      "INFO:tensorflow:loss = 0.79842913, step = 5101 (0.486 sec)\n",
      "INFO:tensorflow:global_step/sec: 199.159\n",
      "INFO:tensorflow:loss = 0.5740149, step = 5201 (0.502 sec)\n",
      "INFO:tensorflow:global_step/sec: 204.871\n",
      "INFO:tensorflow:loss = 0.74041826, step = 5301 (0.488 sec)\n",
      "INFO:tensorflow:global_step/sec: 195.894\n",
      "INFO:tensorflow:loss = 1.082893, step = 5401 (0.510 sec)\n",
      "INFO:tensorflow:global_step/sec: 205.274\n",
      "INFO:tensorflow:loss = 0.84737813, step = 5501 (0.503 sec)\n",
      "INFO:tensorflow:global_step/sec: 190.829\n",
      "INFO:tensorflow:loss = 0.97753155, step = 5601 (0.508 sec)\n",
      "INFO:tensorflow:global_step/sec: 193.794\n",
      "INFO:tensorflow:loss = 0.72323734, step = 5701 (0.520 sec)\n",
      "INFO:tensorflow:global_step/sec: 202.547\n",
      "INFO:tensorflow:loss = 0.73761845, step = 5801 (0.490 sec)\n",
      "INFO:tensorflow:global_step/sec: 201.343\n",
      "INFO:tensorflow:loss = 1.3002899, step = 5901 (0.497 sec)\n",
      "INFO:tensorflow:global_step/sec: 205.089\n",
      "INFO:tensorflow:loss = 0.4978056, step = 6001 (0.505 sec)\n",
      "INFO:tensorflow:global_step/sec: 194.911\n",
      "INFO:tensorflow:loss = 0.7454734, step = 6101 (0.495 sec)\n",
      "INFO:tensorflow:global_step/sec: 204.206\n",
      "INFO:tensorflow:loss = 0.79086477, step = 6201 (0.490 sec)\n",
      "INFO:tensorflow:global_step/sec: 197.396\n",
      "INFO:tensorflow:loss = 0.54418576, step = 6301 (0.507 sec)\n",
      "INFO:tensorflow:global_step/sec: 201.784\n",
      "INFO:tensorflow:loss = 0.7992718, step = 6401 (0.496 sec)\n",
      "INFO:tensorflow:global_step/sec: 203.087\n",
      "INFO:tensorflow:loss = 0.6321725, step = 6501 (0.492 sec)\n",
      "INFO:tensorflow:global_step/sec: 202.475\n",
      "INFO:tensorflow:loss = 0.97529525, step = 6601 (0.510 sec)\n",
      "INFO:tensorflow:global_step/sec: 196.962\n",
      "INFO:tensorflow:loss = 0.8148428, step = 6701 (0.492 sec)\n",
      "INFO:tensorflow:global_step/sec: 202.48\n"
     ]
    },
    {
     "name": "stdout",
     "output_type": "stream",
     "text": [
      "INFO:tensorflow:loss = 0.69856584, step = 6801 (0.494 sec)\n",
      "INFO:tensorflow:global_step/sec: 204.515\n",
      "INFO:tensorflow:loss = 0.45120126, step = 6901 (0.505 sec)\n",
      "INFO:tensorflow:global_step/sec: 193.028\n",
      "INFO:tensorflow:loss = 0.76601964, step = 7001 (0.506 sec)\n",
      "INFO:tensorflow:global_step/sec: 196.845\n",
      "INFO:tensorflow:loss = 1.1062633, step = 7101 (0.504 sec)\n",
      "INFO:tensorflow:global_step/sec: 202.239\n",
      "INFO:tensorflow:loss = 0.92493355, step = 7201 (0.494 sec)\n",
      "INFO:tensorflow:global_step/sec: 204.195\n",
      "INFO:tensorflow:loss = 1.2368872, step = 7301 (0.490 sec)\n",
      "INFO:tensorflow:global_step/sec: 204.604\n",
      "INFO:tensorflow:loss = 1.3589512, step = 7401 (0.489 sec)\n",
      "INFO:tensorflow:global_step/sec: 205.596\n",
      "INFO:tensorflow:loss = 0.7932805, step = 7501 (0.486 sec)\n",
      "INFO:tensorflow:global_step/sec: 197.901\n",
      "INFO:tensorflow:loss = 0.79037493, step = 7601 (0.505 sec)\n",
      "INFO:tensorflow:global_step/sec: 202.201\n",
      "INFO:tensorflow:loss = 0.65113413, step = 7701 (0.495 sec)\n",
      "INFO:tensorflow:global_step/sec: 202.041\n",
      "INFO:tensorflow:loss = 0.78985775, step = 7801 (0.495 sec)\n",
      "INFO:tensorflow:global_step/sec: 207.325\n",
      "INFO:tensorflow:loss = 0.78857374, step = 7901 (0.482 sec)\n",
      "INFO:tensorflow:global_step/sec: 202.716\n",
      "INFO:tensorflow:loss = 0.5834627, step = 8001 (0.493 sec)\n",
      "INFO:tensorflow:global_step/sec: 198.525\n",
      "INFO:tensorflow:loss = 0.6893852, step = 8101 (0.504 sec)\n",
      "INFO:tensorflow:global_step/sec: 206.593\n",
      "INFO:tensorflow:loss = 1.1038594, step = 8201 (0.484 sec)\n",
      "INFO:tensorflow:global_step/sec: 199.38\n",
      "INFO:tensorflow:loss = 1.0328186, step = 8301 (0.502 sec)\n",
      "INFO:tensorflow:global_step/sec: 194.814\n",
      "INFO:tensorflow:loss = 0.57874644, step = 8401 (0.517 sec)\n",
      "INFO:tensorflow:global_step/sec: 195.308\n",
      "INFO:tensorflow:loss = 0.8133074, step = 8501 (0.508 sec)\n",
      "INFO:tensorflow:global_step/sec: 204.933\n",
      "INFO:tensorflow:loss = 0.8567392, step = 8601 (0.504 sec)\n",
      "INFO:tensorflow:global_step/sec: 204.613\n",
      "INFO:tensorflow:loss = 0.60280263, step = 8701 (0.489 sec)\n",
      "INFO:tensorflow:global_step/sec: 200.431\n",
      "INFO:tensorflow:loss = 0.62452114, step = 8801 (0.499 sec)\n",
      "INFO:tensorflow:global_step/sec: 201.414\n",
      "INFO:tensorflow:loss = 0.7473351, step = 8901 (0.496 sec)\n",
      "INFO:tensorflow:global_step/sec: 196.627\n",
      "INFO:tensorflow:loss = 1.0277247, step = 9001 (0.493 sec)\n",
      "INFO:tensorflow:global_step/sec: 205.213\n",
      "INFO:tensorflow:loss = 0.7395998, step = 9101 (0.487 sec)\n",
      "INFO:tensorflow:global_step/sec: 202.358\n",
      "INFO:tensorflow:loss = 0.8177303, step = 9201 (0.494 sec)\n",
      "INFO:tensorflow:global_step/sec: 204.753\n",
      "INFO:tensorflow:loss = 0.8733729, step = 9301 (0.488 sec)\n",
      "INFO:tensorflow:global_step/sec: 204.808\n",
      "INFO:tensorflow:loss = 1.1886437, step = 9401 (0.504 sec)\n",
      "INFO:tensorflow:global_step/sec: 191.967\n",
      "INFO:tensorflow:loss = 0.90950453, step = 9501 (0.521 sec)\n",
      "INFO:tensorflow:global_step/sec: 196.835\n",
      "INFO:tensorflow:loss = 0.9668209, step = 9601 (0.492 sec)\n",
      "INFO:tensorflow:global_step/sec: 202.357\n",
      "INFO:tensorflow:loss = 0.6226903, step = 9701 (0.494 sec)\n",
      "INFO:tensorflow:global_step/sec: 186.72\n",
      "INFO:tensorflow:loss = 0.77956885, step = 9801 (0.540 sec)\n",
      "INFO:tensorflow:global_step/sec: 185.181\n",
      "INFO:tensorflow:loss = 0.62072545, step = 9901 (0.540 sec)\n",
      "INFO:tensorflow:global_step/sec: 188.515\n",
      "INFO:tensorflow:loss = 0.84166604, step = 10001 (0.526 sec)\n",
      "INFO:tensorflow:global_step/sec: 188.724\n",
      "INFO:tensorflow:loss = 0.66757524, step = 10101 (0.530 sec)\n",
      "INFO:tensorflow:global_step/sec: 195.753\n",
      "INFO:tensorflow:loss = 0.9204649, step = 10201 (0.526 sec)\n",
      "INFO:tensorflow:global_step/sec: 188.866\n",
      "INFO:tensorflow:loss = 1.365127, step = 10301 (0.514 sec)\n",
      "INFO:tensorflow:global_step/sec: 189.925\n",
      "INFO:tensorflow:loss = 0.50936663, step = 10401 (0.527 sec)\n",
      "INFO:tensorflow:global_step/sec: 193.12\n",
      "INFO:tensorflow:loss = 0.8326556, step = 10501 (0.533 sec)\n",
      "INFO:tensorflow:global_step/sec: 194.54\n",
      "INFO:tensorflow:loss = 0.56758875, step = 10601 (0.498 sec)\n",
      "INFO:tensorflow:global_step/sec: 204.9\n",
      "INFO:tensorflow:loss = 0.9078333, step = 10701 (0.488 sec)\n",
      "INFO:tensorflow:global_step/sec: 203.823\n",
      "INFO:tensorflow:loss = 0.8086044, step = 10801 (0.491 sec)\n",
      "INFO:tensorflow:global_step/sec: 197.556\n",
      "INFO:tensorflow:loss = 0.83667165, step = 10901 (0.506 sec)\n",
      "INFO:tensorflow:global_step/sec: 201.449\n",
      "INFO:tensorflow:loss = 0.93098336, step = 11001 (0.496 sec)\n",
      "INFO:tensorflow:global_step/sec: 201.723\n",
      "INFO:tensorflow:loss = 1.0812013, step = 11101 (0.496 sec)\n",
      "INFO:tensorflow:global_step/sec: 196.011\n",
      "INFO:tensorflow:loss = 0.67993337, step = 11201 (0.514 sec)\n",
      "INFO:tensorflow:global_step/sec: 195.308\n",
      "INFO:tensorflow:loss = 0.65685076, step = 11301 (0.508 sec)\n",
      "INFO:tensorflow:global_step/sec: 206.227\n",
      "INFO:tensorflow:loss = 1.1419415, step = 11401 (0.501 sec)\n",
      "INFO:tensorflow:global_step/sec: 201.178\n",
      "INFO:tensorflow:loss = 0.6901892, step = 11501 (0.481 sec)\n",
      "INFO:tensorflow:global_step/sec: 202.307\n",
      "INFO:tensorflow:loss = 0.83963263, step = 11601 (0.494 sec)\n",
      "INFO:tensorflow:global_step/sec: 204.944\n",
      "INFO:tensorflow:loss = 0.942122, step = 11701 (0.488 sec)\n",
      "INFO:tensorflow:global_step/sec: 196.844\n",
      "INFO:tensorflow:loss = 1.571515, step = 11801 (0.508 sec)\n",
      "INFO:tensorflow:global_step/sec: 198.733\n",
      "INFO:tensorflow:loss = 0.7863237, step = 11901 (0.503 sec)\n",
      "INFO:tensorflow:global_step/sec: 198.272\n",
      "INFO:tensorflow:loss = 0.5753824, step = 12001 (0.504 sec)\n",
      "INFO:tensorflow:global_step/sec: 206.32\n",
      "INFO:tensorflow:loss = 1.0002047, step = 12101 (0.485 sec)\n",
      "INFO:tensorflow:global_step/sec: 196.314\n",
      "INFO:tensorflow:loss = 0.5453842, step = 12201 (0.509 sec)\n",
      "INFO:tensorflow:global_step/sec: 206.052\n",
      "INFO:tensorflow:loss = 0.8583967, step = 12301 (0.501 sec)\n",
      "INFO:tensorflow:global_step/sec: 195.033\n",
      "INFO:tensorflow:loss = 0.7952549, step = 12401 (0.497 sec)\n",
      "INFO:tensorflow:global_step/sec: 203.784\n",
      "INFO:tensorflow:loss = 0.52903885, step = 12501 (0.506 sec)\n",
      "INFO:tensorflow:global_step/sec: 189.258\n",
      "INFO:tensorflow:loss = 0.9001627, step = 12601 (0.517 sec)\n",
      "INFO:tensorflow:global_step/sec: 198.408\n",
      "INFO:tensorflow:loss = 0.9281084, step = 12701 (0.504 sec)\n",
      "INFO:tensorflow:global_step/sec: 200.214\n",
      "INFO:tensorflow:loss = 0.9623292, step = 12801 (0.495 sec)\n",
      "INFO:tensorflow:global_step/sec: 205.186\n",
      "INFO:tensorflow:loss = 0.6446796, step = 12901 (0.487 sec)\n",
      "INFO:tensorflow:global_step/sec: 203.077\n",
      "INFO:tensorflow:loss = 1.2649459, step = 13001 (0.492 sec)\n",
      "INFO:tensorflow:global_step/sec: 201.098\n",
      "INFO:tensorflow:loss = 1.0641329, step = 13101 (0.513 sec)\n",
      "INFO:tensorflow:global_step/sec: 198.839\n",
      "INFO:tensorflow:loss = 0.5728467, step = 13201 (0.487 sec)\n",
      "INFO:tensorflow:global_step/sec: 202.943\n",
      "INFO:tensorflow:loss = 0.6267692, step = 13301 (0.493 sec)\n",
      "INFO:tensorflow:global_step/sec: 196.054\n",
      "INFO:tensorflow:loss = 0.9468508, step = 13401 (0.510 sec)\n",
      "INFO:tensorflow:global_step/sec: 205.282\n",
      "INFO:tensorflow:loss = 1.1606437, step = 13501 (0.487 sec)\n",
      "INFO:tensorflow:global_step/sec: 200.286\n",
      "INFO:tensorflow:loss = 0.6915891, step = 13601 (0.499 sec)\n",
      "INFO:tensorflow:global_step/sec: 199.462\n",
      "INFO:tensorflow:loss = 1.0847034, step = 13701 (0.501 sec)\n",
      "INFO:tensorflow:global_step/sec: 204.026\n",
      "INFO:tensorflow:loss = 0.8263277, step = 13801 (0.490 sec)\n",
      "INFO:tensorflow:global_step/sec: 198.874\n",
      "INFO:tensorflow:loss = 1.5247205, step = 13901 (0.503 sec)\n",
      "INFO:tensorflow:global_step/sec: 192.119\n",
      "INFO:tensorflow:loss = 0.83743554, step = 14001 (0.521 sec)\n",
      "INFO:tensorflow:global_step/sec: 186.563\n",
      "INFO:tensorflow:loss = 0.5632109, step = 14101 (0.540 sec)\n",
      "INFO:tensorflow:global_step/sec: 201.826\n",
      "INFO:tensorflow:loss = 0.45481157, step = 14201 (0.507 sec)\n",
      "INFO:tensorflow:global_step/sec: 197.053\n",
      "INFO:tensorflow:loss = 1.315833, step = 14301 (0.492 sec)\n",
      "INFO:tensorflow:global_step/sec: 196.56\n",
      "INFO:tensorflow:loss = 0.97738326, step = 14401 (0.509 sec)\n",
      "INFO:tensorflow:global_step/sec: 201.76\n",
      "INFO:tensorflow:loss = 0.72346866, step = 14501 (0.496 sec)\n",
      "INFO:tensorflow:global_step/sec: 202.881\n",
      "INFO:tensorflow:loss = 1.0277127, step = 14601 (0.509 sec)\n",
      "INFO:tensorflow:global_step/sec: 200.15\n",
      "INFO:tensorflow:loss = 0.7234719, step = 14701 (0.484 sec)\n",
      "INFO:tensorflow:global_step/sec: 194.468\n",
      "INFO:tensorflow:loss = 0.99583656, step = 14801 (0.514 sec)\n",
      "INFO:tensorflow:global_step/sec: 202.487\n",
      "INFO:tensorflow:loss = 1.1870127, step = 14901 (0.494 sec)\n",
      "INFO:tensorflow:global_step/sec: 201.809\n",
      "INFO:tensorflow:loss = 0.9378759, step = 15001 (0.496 sec)\n"
     ]
    },
    {
     "name": "stdout",
     "output_type": "stream",
     "text": [
      "INFO:tensorflow:global_step/sec: 206.604\n",
      "INFO:tensorflow:loss = 0.5347665, step = 15101 (0.484 sec)\n",
      "INFO:tensorflow:global_step/sec: 197.292\n",
      "INFO:tensorflow:loss = 0.52919286, step = 15201 (0.507 sec)\n",
      "INFO:tensorflow:global_step/sec: 202.233\n",
      "INFO:tensorflow:loss = 1.1006572, step = 15301 (0.494 sec)\n",
      "INFO:tensorflow:global_step/sec: 191.336\n",
      "INFO:tensorflow:loss = 0.68591535, step = 15401 (0.527 sec)\n",
      "INFO:tensorflow:global_step/sec: 193.794\n",
      "INFO:tensorflow:loss = 0.8031349, step = 15501 (0.516 sec)\n",
      "INFO:tensorflow:global_step/sec: 195.308\n",
      "INFO:tensorflow:loss = 0.86963254, step = 15601 (0.512 sec)\n",
      "INFO:tensorflow:global_step/sec: 190.621\n",
      "INFO:tensorflow:loss = 1.2244904, step = 15701 (0.525 sec)\n",
      "INFO:tensorflow:global_step/sec: 186.066\n",
      "INFO:tensorflow:loss = 1.2770898, step = 15801 (0.537 sec)\n",
      "INFO:tensorflow:global_step/sec: 198.974\n",
      "INFO:tensorflow:loss = 0.87109405, step = 15901 (0.503 sec)\n",
      "INFO:tensorflow:global_step/sec: 196.806\n",
      "INFO:tensorflow:loss = 0.93939, step = 16001 (0.504 sec)\n",
      "INFO:tensorflow:global_step/sec: 157.229\n",
      "INFO:tensorflow:loss = 0.49618903, step = 16101 (0.640 sec)\n",
      "INFO:tensorflow:global_step/sec: 183.819\n",
      "INFO:tensorflow:loss = 0.58432925, step = 16201 (0.540 sec)\n",
      "INFO:tensorflow:global_step/sec: 196.701\n",
      "INFO:tensorflow:loss = 0.78820777, step = 16301 (0.512 sec)\n",
      "INFO:tensorflow:global_step/sec: 193.408\n",
      "INFO:tensorflow:loss = 0.9042323, step = 16401 (0.513 sec)\n",
      "INFO:tensorflow:global_step/sec: 181.573\n",
      "INFO:tensorflow:loss = 0.79766506, step = 16501 (0.551 sec)\n",
      "INFO:tensorflow:global_step/sec: 170.064\n",
      "INFO:tensorflow:loss = 0.4394904, step = 16601 (0.592 sec)\n",
      "INFO:tensorflow:global_step/sec: 183.819\n",
      "INFO:tensorflow:loss = 0.77019334, step = 16701 (0.544 sec)\n",
      "INFO:tensorflow:global_step/sec: 193.794\n",
      "INFO:tensorflow:loss = 0.78997165, step = 16801 (0.516 sec)\n",
      "INFO:tensorflow:global_step/sec: 193.612\n",
      "INFO:tensorflow:loss = 0.6052361, step = 16901 (0.512 sec)\n",
      "INFO:tensorflow:global_step/sec: 193.528\n",
      "INFO:tensorflow:loss = 0.6399882, step = 17001 (0.517 sec)\n",
      "INFO:tensorflow:global_step/sec: 196.222\n",
      "INFO:tensorflow:loss = 0.5042265, step = 17101 (0.510 sec)\n",
      "INFO:tensorflow:global_step/sec: 198.582\n",
      "INFO:tensorflow:loss = 1.061207, step = 17201 (0.508 sec)\n",
      "INFO:tensorflow:global_step/sec: 194.416\n",
      "INFO:tensorflow:loss = 0.48667455, step = 17301 (0.510 sec)\n",
      "INFO:tensorflow:global_step/sec: 196.664\n",
      "INFO:tensorflow:loss = 0.9878972, step = 17401 (0.512 sec)\n",
      "INFO:tensorflow:global_step/sec: 195.347\n",
      "INFO:tensorflow:loss = 0.7623799, step = 17501 (0.508 sec)\n",
      "INFO:tensorflow:global_step/sec: 198.81\n",
      "INFO:tensorflow:loss = 0.75134426, step = 17601 (0.503 sec)\n",
      "INFO:tensorflow:global_step/sec: 195.671\n",
      "INFO:tensorflow:loss = 0.8975657, step = 17701 (0.515 sec)\n",
      "INFO:tensorflow:global_step/sec: 177.83\n",
      "INFO:tensorflow:loss = 0.7343533, step = 17801 (0.562 sec)\n",
      "INFO:tensorflow:global_step/sec: 192.932\n",
      "INFO:tensorflow:loss = 0.9711048, step = 17901 (0.514 sec)\n",
      "INFO:tensorflow:global_step/sec: 197.841\n",
      "INFO:tensorflow:loss = 0.77784115, step = 18001 (0.509 sec)\n",
      "INFO:tensorflow:global_step/sec: 196.845\n",
      "INFO:tensorflow:loss = 0.96725523, step = 18101 (0.508 sec)\n",
      "INFO:tensorflow:global_step/sec: 197.145\n",
      "INFO:tensorflow:loss = 0.69704515, step = 18201 (0.507 sec)\n",
      "INFO:tensorflow:global_step/sec: 198.603\n",
      "INFO:tensorflow:loss = 0.726065, step = 18301 (0.500 sec)\n",
      "INFO:tensorflow:global_step/sec: 202.156\n",
      "INFO:tensorflow:loss = 0.4852348, step = 18401 (0.495 sec)\n",
      "INFO:tensorflow:global_step/sec: 200.827\n",
      "INFO:tensorflow:loss = 0.9715147, step = 18501 (0.514 sec)\n",
      "INFO:tensorflow:global_step/sec: 202.551\n",
      "INFO:tensorflow:loss = 1.1227449, step = 18601 (0.494 sec)\n",
      "INFO:tensorflow:global_step/sec: 195.529\n",
      "INFO:tensorflow:loss = 0.9819771, step = 18701 (0.496 sec)\n",
      "INFO:tensorflow:global_step/sec: 198.195\n",
      "INFO:tensorflow:loss = 0.82128924, step = 18801 (0.505 sec)\n",
      "INFO:tensorflow:global_step/sec: 202.046\n",
      "INFO:tensorflow:loss = 0.6483165, step = 18901 (0.495 sec)\n",
      "INFO:tensorflow:global_step/sec: 201.188\n",
      "INFO:tensorflow:loss = 1.0067079, step = 19001 (0.497 sec)\n",
      "INFO:tensorflow:global_step/sec: 199.824\n",
      "INFO:tensorflow:loss = 1.1052383, step = 19101 (0.504 sec)\n",
      "INFO:tensorflow:global_step/sec: 202.141\n",
      "INFO:tensorflow:loss = 0.85236233, step = 19201 (0.491 sec)\n",
      "INFO:tensorflow:global_step/sec: 200.12\n",
      "INFO:tensorflow:loss = 0.65331805, step = 19301 (0.500 sec)\n",
      "INFO:tensorflow:global_step/sec: 196.1\n",
      "INFO:tensorflow:loss = 0.6356443, step = 19401 (0.514 sec)\n",
      "INFO:tensorflow:global_step/sec: 195.307\n",
      "INFO:tensorflow:loss = 0.9229, step = 19501 (0.508 sec)\n",
      "INFO:tensorflow:global_step/sec: 187.966\n",
      "INFO:tensorflow:loss = 0.56533253, step = 19601 (0.536 sec)\n",
      "INFO:tensorflow:global_step/sec: 195.736\n",
      "INFO:tensorflow:loss = 0.9761856, step = 19701 (0.507 sec)\n",
      "INFO:tensorflow:global_step/sec: 197.446\n",
      "INFO:tensorflow:loss = 0.40538532, step = 19801 (0.506 sec)\n",
      "INFO:tensorflow:global_step/sec: 197.246\n",
      "INFO:tensorflow:loss = 0.85860837, step = 19901 (0.507 sec)\n",
      "INFO:tensorflow:global_step/sec: 196.074\n",
      "INFO:tensorflow:loss = 0.6660372, step = 20001 (0.510 sec)\n",
      "INFO:tensorflow:global_step/sec: 201.747\n",
      "INFO:tensorflow:loss = 0.73605806, step = 20101 (0.496 sec)\n",
      "INFO:tensorflow:global_step/sec: 200.552\n",
      "INFO:tensorflow:loss = 0.44912815, step = 20201 (0.499 sec)\n",
      "INFO:tensorflow:global_step/sec: 197.294\n",
      "INFO:tensorflow:loss = 0.5029251, step = 20301 (0.507 sec)\n",
      "INFO:tensorflow:global_step/sec: 195.112\n",
      "INFO:tensorflow:loss = 0.7751824, step = 20401 (0.513 sec)\n",
      "INFO:tensorflow:global_step/sec: 196.583\n",
      "INFO:tensorflow:loss = 0.92971456, step = 20501 (0.509 sec)\n",
      "INFO:tensorflow:global_step/sec: 201.565\n",
      "INFO:tensorflow:loss = 1.0460771, step = 20601 (0.496 sec)\n",
      "INFO:tensorflow:global_step/sec: 195.607\n",
      "INFO:tensorflow:loss = 0.9006704, step = 20701 (0.511 sec)\n",
      "INFO:tensorflow:global_step/sec: 191.559\n",
      "INFO:tensorflow:loss = 0.81720144, step = 20801 (0.522 sec)\n",
      "INFO:tensorflow:global_step/sec: 193.793\n",
      "INFO:tensorflow:loss = 1.0354254, step = 20901 (0.520 sec)\n",
      "INFO:tensorflow:global_step/sec: 201.775\n",
      "INFO:tensorflow:loss = 0.5479631, step = 21001 (0.507 sec)\n",
      "INFO:tensorflow:global_step/sec: 194.321\n",
      "INFO:tensorflow:loss = 0.66011345, step = 21101 (0.499 sec)\n",
      "INFO:tensorflow:global_step/sec: 197.866\n",
      "INFO:tensorflow:loss = 0.9043168, step = 21201 (0.505 sec)\n",
      "INFO:tensorflow:global_step/sec: 197.962\n",
      "INFO:tensorflow:loss = 0.68528706, step = 21301 (0.505 sec)\n",
      "INFO:tensorflow:global_step/sec: 204.749\n",
      "INFO:tensorflow:loss = 0.8815657, step = 21401 (0.504 sec)\n",
      "INFO:tensorflow:global_step/sec: 191.306\n",
      "INFO:tensorflow:loss = 0.9132616, step = 21501 (0.507 sec)\n",
      "INFO:tensorflow:global_step/sec: 198.634\n",
      "INFO:tensorflow:loss = 0.9672364, step = 21601 (0.503 sec)\n",
      "INFO:tensorflow:global_step/sec: 194.696\n",
      "INFO:tensorflow:loss = 1.0817876, step = 21701 (0.514 sec)\n",
      "INFO:tensorflow:global_step/sec: 200.263\n",
      "INFO:tensorflow:loss = 0.8017996, step = 21801 (0.515 sec)\n",
      "INFO:tensorflow:global_step/sec: 192.365\n",
      "INFO:tensorflow:loss = 0.9525118, step = 21901 (0.504 sec)\n",
      "INFO:tensorflow:global_step/sec: 196.279\n",
      "INFO:tensorflow:loss = 0.56738347, step = 22001 (0.509 sec)\n",
      "INFO:tensorflow:global_step/sec: 200.034\n",
      "INFO:tensorflow:loss = 1.1858408, step = 22101 (0.500 sec)\n",
      "INFO:tensorflow:global_step/sec: 193.281\n",
      "INFO:tensorflow:loss = 0.42971134, step = 22201 (0.521 sec)\n",
      "INFO:tensorflow:global_step/sec: 189.389\n",
      "INFO:tensorflow:loss = 0.6031516, step = 22301 (0.528 sec)\n",
      "INFO:tensorflow:global_step/sec: 190.909\n",
      "INFO:tensorflow:loss = 0.58024263, step = 22401 (0.520 sec)\n",
      "INFO:tensorflow:global_step/sec: 176.364\n",
      "INFO:tensorflow:loss = 0.5870553, step = 22501 (0.571 sec)\n",
      "INFO:tensorflow:global_step/sec: 173.608\n",
      "INFO:tensorflow:loss = 0.7043413, step = 22601 (0.576 sec)\n",
      "INFO:tensorflow:global_step/sec: 191.293\n",
      "INFO:tensorflow:loss = 0.74230754, step = 22701 (0.519 sec)\n",
      "INFO:tensorflow:global_step/sec: 171.214\n",
      "INFO:tensorflow:loss = 0.5301995, step = 22801 (0.584 sec)\n",
      "INFO:tensorflow:global_step/sec: 193.794\n",
      "INFO:tensorflow:loss = 0.724127, step = 22901 (0.520 sec)\n",
      "INFO:tensorflow:global_step/sec: 190.856\n",
      "INFO:tensorflow:loss = 0.78160095, step = 23001 (0.524 sec)\n",
      "INFO:tensorflow:global_step/sec: 195.879\n",
      "INFO:tensorflow:loss = 0.984196, step = 23101 (0.567 sec)\n",
      "INFO:tensorflow:global_step/sec: 162.585\n",
      "INFO:tensorflow:loss = 0.65428543, step = 23201 (0.559 sec)\n"
     ]
    },
    {
     "name": "stdout",
     "output_type": "stream",
     "text": [
      "INFO:tensorflow:global_step/sec: 196.992\n",
      "INFO:tensorflow:loss = 0.9884262, step = 23301 (0.508 sec)\n",
      "INFO:tensorflow:global_step/sec: 197.947\n",
      "INFO:tensorflow:loss = 0.6903299, step = 23401 (0.501 sec)\n",
      "INFO:tensorflow:global_step/sec: 193.794\n",
      "INFO:tensorflow:loss = 0.786929, step = 23501 (0.520 sec)\n",
      "INFO:tensorflow:global_step/sec: 189.389\n",
      "INFO:tensorflow:loss = 1.1972857, step = 23601 (0.528 sec)\n",
      "INFO:tensorflow:global_step/sec: 190.184\n",
      "INFO:tensorflow:loss = 1.403788, step = 23701 (0.522 sec)\n",
      "INFO:tensorflow:global_step/sec: 202.535\n",
      "INFO:tensorflow:loss = 0.79992026, step = 23801 (0.494 sec)\n",
      "INFO:tensorflow:global_step/sec: 199.678\n",
      "INFO:tensorflow:loss = 0.7837899, step = 23901 (0.505 sec)\n",
      "INFO:tensorflow:global_step/sec: 197.259\n",
      "INFO:tensorflow:loss = 0.6520513, step = 24001 (0.507 sec)\n",
      "INFO:tensorflow:global_step/sec: 197.033\n",
      "INFO:tensorflow:loss = 0.8474258, step = 24101 (0.504 sec)\n",
      "INFO:tensorflow:global_step/sec: 191.64\n",
      "INFO:tensorflow:loss = 0.5421647, step = 24201 (0.526 sec)\n",
      "INFO:tensorflow:global_step/sec: 187.196\n",
      "INFO:tensorflow:loss = 0.95993173, step = 24301 (0.590 sec)\n",
      "INFO:tensorflow:global_step/sec: 164.228\n",
      "INFO:tensorflow:loss = 0.9730732, step = 24401 (0.549 sec)\n",
      "INFO:tensorflow:global_step/sec: 198.408\n",
      "INFO:tensorflow:loss = 0.7214716, step = 24501 (0.520 sec)\n",
      "INFO:tensorflow:global_step/sec: 191.168\n",
      "INFO:tensorflow:loss = 0.7231865, step = 24601 (0.507 sec)\n",
      "INFO:tensorflow:global_step/sec: 196.399\n",
      "INFO:tensorflow:loss = 0.6106826, step = 24701 (0.509 sec)\n",
      "INFO:tensorflow:global_step/sec: 194.259\n",
      "INFO:tensorflow:loss = 0.6335765, step = 24801 (0.515 sec)\n",
      "INFO:tensorflow:global_step/sec: 189.39\n",
      "INFO:tensorflow:loss = 0.70444274, step = 24901 (0.532 sec)\n",
      "INFO:tensorflow:global_step/sec: 198.703\n",
      "INFO:tensorflow:loss = 1.0459198, step = 25001 (0.499 sec)\n",
      "INFO:tensorflow:global_step/sec: 203.381\n",
      "INFO:tensorflow:loss = 0.87464905, step = 25101 (0.492 sec)\n",
      "INFO:tensorflow:global_step/sec: 197.148\n",
      "INFO:tensorflow:loss = 0.7078358, step = 25201 (0.511 sec)\n",
      "INFO:tensorflow:global_step/sec: 198.844\n",
      "INFO:tensorflow:loss = 0.58248967, step = 25301 (0.499 sec)\n",
      "INFO:tensorflow:global_step/sec: 205.147\n",
      "INFO:tensorflow:loss = 0.7588465, step = 25401 (0.487 sec)\n",
      "INFO:tensorflow:global_step/sec: 198.003\n",
      "INFO:tensorflow:loss = 0.64540607, step = 25501 (0.505 sec)\n",
      "INFO:tensorflow:global_step/sec: 200.811\n",
      "INFO:tensorflow:loss = 0.42867565, step = 25601 (0.498 sec)\n",
      "INFO:tensorflow:global_step/sec: 205.64\n",
      "INFO:tensorflow:loss = 0.9454695, step = 25701 (0.502 sec)\n",
      "INFO:tensorflow:global_step/sec: 195.97\n",
      "INFO:tensorflow:loss = 0.59379816, step = 25801 (0.495 sec)\n",
      "INFO:tensorflow:global_step/sec: 199.147\n",
      "INFO:tensorflow:loss = 0.74909765, step = 25901 (0.502 sec)\n",
      "INFO:tensorflow:global_step/sec: 201.873\n",
      "INFO:tensorflow:loss = 0.3114311, step = 26001 (0.495 sec)\n",
      "INFO:tensorflow:global_step/sec: 196.316\n",
      "INFO:tensorflow:loss = 0.77272725, step = 26101 (0.509 sec)\n",
      "INFO:tensorflow:global_step/sec: 195.136\n",
      "INFO:tensorflow:loss = 0.7535874, step = 26201 (0.516 sec)\n",
      "INFO:tensorflow:global_step/sec: 190.835\n",
      "INFO:tensorflow:loss = 0.5152359, step = 26301 (0.524 sec)\n",
      "INFO:tensorflow:global_step/sec: 198.954\n",
      "INFO:tensorflow:loss = 0.7084423, step = 26401 (0.499 sec)\n",
      "INFO:tensorflow:global_step/sec: 201.609\n",
      "INFO:tensorflow:loss = 0.56900597, step = 26501 (0.496 sec)\n",
      "INFO:tensorflow:global_step/sec: 197.153\n",
      "INFO:tensorflow:loss = 0.5345041, step = 26601 (0.507 sec)\n",
      "INFO:tensorflow:global_step/sec: 203.767\n",
      "INFO:tensorflow:loss = 0.72538745, step = 26701 (0.491 sec)\n",
      "INFO:tensorflow:global_step/sec: 196.576\n",
      "INFO:tensorflow:loss = 0.9614441, step = 26801 (0.509 sec)\n",
      "INFO:tensorflow:global_step/sec: 203.476\n",
      "INFO:tensorflow:loss = 1.008529, step = 26901 (0.491 sec)\n",
      "INFO:tensorflow:global_step/sec: 197.871\n",
      "INFO:tensorflow:loss = 0.8072685, step = 27001 (0.509 sec)\n",
      "INFO:tensorflow:global_step/sec: 198.646\n",
      "INFO:tensorflow:loss = 0.53711146, step = 27101 (0.499 sec)\n",
      "INFO:tensorflow:global_step/sec: 205.252\n",
      "INFO:tensorflow:loss = 0.44452024, step = 27201 (0.487 sec)\n",
      "INFO:tensorflow:global_step/sec: 196.937\n",
      "INFO:tensorflow:loss = 0.6922352, step = 27301 (0.508 sec)\n",
      "INFO:tensorflow:global_step/sec: 203.203\n",
      "INFO:tensorflow:loss = 1.6975123, step = 27401 (0.492 sec)\n",
      "INFO:tensorflow:global_step/sec: 198.704\n",
      "INFO:tensorflow:loss = 0.9057306, step = 27501 (0.503 sec)\n",
      "INFO:tensorflow:global_step/sec: 194.969\n",
      "INFO:tensorflow:loss = 0.7155922, step = 27601 (0.513 sec)\n",
      "INFO:tensorflow:global_step/sec: 186.563\n",
      "INFO:tensorflow:loss = 0.650949, step = 27701 (0.540 sec)\n",
      "INFO:tensorflow:global_step/sec: 190.138\n",
      "INFO:tensorflow:loss = 0.76072997, step = 27801 (0.526 sec)\n",
      "INFO:tensorflow:global_step/sec: 187.939\n",
      "INFO:tensorflow:loss = 1.2411778, step = 27901 (0.528 sec)\n",
      "INFO:tensorflow:global_step/sec: 195.876\n",
      "INFO:tensorflow:loss = 0.75658023, step = 28001 (0.515 sec)\n",
      "INFO:tensorflow:global_step/sec: 172.411\n",
      "INFO:tensorflow:loss = 0.5292097, step = 28101 (0.580 sec)\n",
      "INFO:tensorflow:global_step/sec: 197.306\n",
      "INFO:tensorflow:loss = 1.1213503, step = 28201 (0.503 sec)\n",
      "INFO:tensorflow:global_step/sec: 193.856\n",
      "INFO:tensorflow:loss = 0.5690614, step = 28301 (0.516 sec)\n",
      "INFO:tensorflow:global_step/sec: 196.669\n",
      "INFO:tensorflow:loss = 0.8184717, step = 28401 (0.508 sec)\n",
      "INFO:tensorflow:global_step/sec: 199.49\n",
      "INFO:tensorflow:loss = 0.4403483, step = 28501 (0.517 sec)\n",
      "INFO:tensorflow:global_step/sec: 190.026\n",
      "INFO:tensorflow:loss = 0.7618277, step = 28601 (0.515 sec)\n",
      "INFO:tensorflow:global_step/sec: 201.856\n",
      "INFO:tensorflow:loss = 1.0240605, step = 28701 (0.491 sec)\n",
      "INFO:tensorflow:global_step/sec: 197.596\n",
      "INFO:tensorflow:loss = 0.9286639, step = 28801 (0.506 sec)\n",
      "INFO:tensorflow:global_step/sec: 201.879\n",
      "INFO:tensorflow:loss = 0.47514758, step = 28901 (0.495 sec)\n",
      "INFO:tensorflow:global_step/sec: 193.228\n",
      "INFO:tensorflow:loss = 0.58238184, step = 29001 (0.522 sec)\n",
      "INFO:tensorflow:global_step/sec: 193.793\n",
      "INFO:tensorflow:loss = 0.75463706, step = 29101 (0.512 sec)\n",
      "INFO:tensorflow:global_step/sec: 200.736\n",
      "INFO:tensorflow:loss = 1.0138329, step = 29201 (0.514 sec)\n",
      "INFO:tensorflow:global_step/sec: 192.522\n",
      "INFO:tensorflow:loss = 0.6555215, step = 29301 (0.504 sec)\n",
      "INFO:tensorflow:global_step/sec: 199.28\n",
      "INFO:tensorflow:loss = 0.48319197, step = 29401 (0.502 sec)\n",
      "INFO:tensorflow:global_step/sec: 202.233\n",
      "INFO:tensorflow:loss = 0.32695013, step = 29501 (0.494 sec)\n",
      "INFO:tensorflow:global_step/sec: 197.316\n",
      "INFO:tensorflow:loss = 0.7195531, step = 29601 (0.507 sec)\n",
      "INFO:tensorflow:global_step/sec: 201.883\n",
      "INFO:tensorflow:loss = 0.6819315, step = 29701 (0.495 sec)\n",
      "INFO:tensorflow:global_step/sec: 197.314\n",
      "INFO:tensorflow:loss = 0.25329864, step = 29801 (0.507 sec)\n",
      "INFO:tensorflow:global_step/sec: 202.502\n",
      "INFO:tensorflow:loss = 0.8987352, step = 29901 (0.494 sec)\n",
      "INFO:tensorflow:global_step/sec: 198.621\n",
      "INFO:tensorflow:loss = 1.5313648, step = 30001 (0.503 sec)\n",
      "INFO:tensorflow:global_step/sec: 201.585\n",
      "INFO:tensorflow:loss = 0.46703488, step = 30101 (0.496 sec)\n",
      "INFO:tensorflow:global_step/sec: 194.471\n",
      "INFO:tensorflow:loss = 0.79879725, step = 30201 (0.514 sec)\n",
      "INFO:tensorflow:global_step/sec: 200.509\n",
      "INFO:tensorflow:loss = 0.57970065, step = 30301 (0.499 sec)\n",
      "INFO:tensorflow:global_step/sec: 185.027\n",
      "INFO:tensorflow:loss = 0.58083904, step = 30401 (0.540 sec)\n",
      "INFO:tensorflow:global_step/sec: 182.478\n",
      "INFO:tensorflow:loss = 0.6071498, step = 30501 (0.552 sec)\n",
      "INFO:tensorflow:global_step/sec: 203.995\n",
      "INFO:tensorflow:loss = 0.7073852, step = 30601 (0.497 sec)\n",
      "INFO:tensorflow:global_step/sec: 198.318\n",
      "INFO:tensorflow:loss = 0.81275463, step = 30701 (0.493 sec)\n",
      "INFO:tensorflow:global_step/sec: 199.94\n",
      "INFO:tensorflow:loss = 0.3336535, step = 30801 (0.500 sec)\n",
      "INFO:tensorflow:global_step/sec: 204.774\n",
      "INFO:tensorflow:loss = 1.12166, step = 30901 (0.504 sec)\n",
      "INFO:tensorflow:global_step/sec: 198.104\n",
      "INFO:tensorflow:loss = 0.51653993, step = 31001 (0.489 sec)\n",
      "INFO:tensorflow:global_step/sec: 200.866\n",
      "INFO:tensorflow:loss = 0.8129921, step = 31101 (0.498 sec)\n",
      "INFO:tensorflow:global_step/sec: 203.348\n",
      "INFO:tensorflow:loss = 0.55746657, step = 31201 (0.492 sec)\n",
      "INFO:tensorflow:global_step/sec: 200.548\n",
      "INFO:tensorflow:loss = 0.8448124, step = 31301 (0.499 sec)\n",
      "INFO:tensorflow:global_step/sec: 196.921\n",
      "INFO:tensorflow:loss = 0.83778507, step = 31401 (0.508 sec)\n"
     ]
    },
    {
     "name": "stdout",
     "output_type": "stream",
     "text": [
      "INFO:tensorflow:global_step/sec: 202.593\n",
      "INFO:tensorflow:loss = 0.7650442, step = 31501 (0.494 sec)\n",
      "INFO:tensorflow:global_step/sec: 201.999\n",
      "INFO:tensorflow:loss = 0.82164764, step = 31601 (0.495 sec)\n",
      "INFO:tensorflow:global_step/sec: 192.749\n",
      "INFO:tensorflow:loss = 0.937883, step = 31701 (0.519 sec)\n",
      "INFO:tensorflow:global_step/sec: 196.508\n",
      "INFO:tensorflow:loss = 0.4700504, step = 31801 (0.513 sec)\n",
      "INFO:tensorflow:global_step/sec: 193.794\n",
      "INFO:tensorflow:loss = 0.55119026, step = 31901 (0.516 sec)\n",
      "INFO:tensorflow:global_step/sec: 202.315\n",
      "INFO:tensorflow:loss = 0.67094433, step = 32001 (0.490 sec)\n",
      "INFO:tensorflow:global_step/sec: 198.778\n",
      "INFO:tensorflow:loss = 0.7948689, step = 32101 (0.503 sec)\n",
      "INFO:tensorflow:global_step/sec: 205.242\n",
      "INFO:tensorflow:loss = 0.476792, step = 32201 (0.503 sec)\n",
      "INFO:tensorflow:global_step/sec: 197.236\n",
      "INFO:tensorflow:loss = 0.5879501, step = 32301 (0.491 sec)\n",
      "INFO:tensorflow:global_step/sec: 202.656\n",
      "INFO:tensorflow:loss = 0.6946889, step = 32401 (0.493 sec)\n",
      "INFO:tensorflow:global_step/sec: 202.217\n",
      "INFO:tensorflow:loss = 0.8547651, step = 32501 (0.495 sec)\n",
      "INFO:tensorflow:global_step/sec: 203.925\n",
      "INFO:tensorflow:loss = 0.486406, step = 32601 (0.490 sec)\n",
      "INFO:tensorflow:global_step/sec: 198.174\n",
      "INFO:tensorflow:loss = 0.69288355, step = 32701 (0.505 sec)\n",
      "INFO:tensorflow:global_step/sec: 202.735\n",
      "INFO:tensorflow:loss = 0.29154366, step = 32801 (0.493 sec)\n",
      "INFO:tensorflow:global_step/sec: 203.8\n",
      "INFO:tensorflow:loss = 0.9252206, step = 32901 (0.506 sec)\n",
      "INFO:tensorflow:global_step/sec: 195.367\n",
      "INFO:tensorflow:loss = 1.1816155, step = 33001 (0.496 sec)\n",
      "INFO:tensorflow:global_step/sec: 201.046\n",
      "INFO:tensorflow:loss = 1.1369054, step = 33101 (0.501 sec)\n",
      "INFO:tensorflow:global_step/sec: 195.307\n",
      "INFO:tensorflow:loss = 0.8361209, step = 33201 (0.512 sec)\n",
      "INFO:tensorflow:global_step/sec: 195.308\n",
      "INFO:tensorflow:loss = 0.8785437, step = 33301 (0.508 sec)\n",
      "INFO:tensorflow:global_step/sec: 207.358\n",
      "INFO:tensorflow:loss = 0.6009114, step = 33401 (0.498 sec)\n",
      "INFO:tensorflow:global_step/sec: 197.072\n",
      "INFO:tensorflow:loss = 0.91935986, step = 33501 (0.492 sec)\n",
      "INFO:tensorflow:global_step/sec: 203.002\n",
      "INFO:tensorflow:loss = 1.0059594, step = 33601 (0.493 sec)\n",
      "INFO:tensorflow:global_step/sec: 199.909\n",
      "INFO:tensorflow:loss = 1.1017612, step = 33701 (0.516 sec)\n",
      "INFO:tensorflow:global_step/sec: 203.48\n",
      "INFO:tensorflow:loss = 0.58631694, step = 33801 (0.491 sec)\n",
      "INFO:tensorflow:global_step/sec: 198.541\n",
      "INFO:tensorflow:loss = 0.83603156, step = 33901 (0.488 sec)\n",
      "INFO:tensorflow:global_step/sec: 201.475\n",
      "INFO:tensorflow:loss = 0.62669814, step = 34001 (0.496 sec)\n",
      "INFO:tensorflow:global_step/sec: 202.623\n",
      "INFO:tensorflow:loss = 1.0976586, step = 34101 (0.494 sec)\n",
      "INFO:tensorflow:global_step/sec: 200.507\n",
      "INFO:tensorflow:loss = 0.27160567, step = 34201 (0.499 sec)\n",
      "INFO:tensorflow:global_step/sec: 204.312\n",
      "INFO:tensorflow:loss = 0.9194649, step = 34301 (0.489 sec)\n",
      "INFO:tensorflow:global_step/sec: 197.6\n",
      "INFO:tensorflow:loss = 0.5530799, step = 34401 (0.506 sec)\n",
      "INFO:tensorflow:global_step/sec: 198.947\n",
      "INFO:tensorflow:loss = 0.7311772, step = 34501 (0.507 sec)\n",
      "INFO:tensorflow:global_step/sec: 193.592\n",
      "INFO:tensorflow:loss = 0.5119997, step = 34601 (0.517 sec)\n",
      "INFO:tensorflow:global_step/sec: 195.308\n",
      "INFO:tensorflow:loss = 0.8571693, step = 34701 (0.512 sec)\n",
      "INFO:tensorflow:global_step/sec: 195.507\n",
      "INFO:tensorflow:loss = 0.68701494, step = 34801 (0.507 sec)\n",
      "INFO:tensorflow:global_step/sec: 202.269\n",
      "INFO:tensorflow:loss = 1.1451386, step = 34901 (0.498 sec)\n",
      "INFO:tensorflow:global_step/sec: 194.922\n",
      "INFO:tensorflow:loss = 0.5950366, step = 35001 (0.509 sec)\n",
      "INFO:tensorflow:global_step/sec: 187.81\n",
      "INFO:tensorflow:loss = 0.4931004, step = 35101 (0.532 sec)\n",
      "INFO:tensorflow:global_step/sec: 197.774\n",
      "INFO:tensorflow:loss = 0.80858266, step = 35201 (0.506 sec)\n",
      "INFO:tensorflow:global_step/sec: 187.193\n",
      "INFO:tensorflow:loss = 0.39456075, step = 35301 (0.538 sec)\n",
      "INFO:tensorflow:global_step/sec: 201.995\n",
      "INFO:tensorflow:loss = 0.7715169, step = 35401 (0.491 sec)\n",
      "INFO:tensorflow:global_step/sec: 189.99\n",
      "INFO:tensorflow:loss = 0.3175885, step = 35501 (0.526 sec)\n",
      "INFO:tensorflow:global_step/sec: 204.494\n",
      "INFO:tensorflow:loss = 0.5856981, step = 35601 (0.505 sec)\n",
      "INFO:tensorflow:global_step/sec: 199.162\n",
      "INFO:tensorflow:loss = 0.77005875, step = 35701 (0.486 sec)\n",
      "INFO:tensorflow:global_step/sec: 196.567\n",
      "INFO:tensorflow:loss = 0.47302866, step = 35801 (0.509 sec)\n",
      "INFO:tensorflow:global_step/sec: 197.159\n",
      "INFO:tensorflow:loss = 0.56743884, step = 35901 (0.511 sec)\n",
      "INFO:tensorflow:global_step/sec: 195.308\n",
      "INFO:tensorflow:loss = 0.69385153, step = 36001 (0.512 sec)\n",
      "INFO:tensorflow:global_step/sec: 196.972\n",
      "INFO:tensorflow:loss = 0.6980832, step = 36101 (0.508 sec)\n",
      "INFO:tensorflow:global_step/sec: 204.189\n",
      "INFO:tensorflow:loss = 0.80358905, step = 36201 (0.501 sec)\n",
      "INFO:tensorflow:global_step/sec: 195.195\n",
      "INFO:tensorflow:loss = 0.8683853, step = 36301 (0.497 sec)\n",
      "INFO:tensorflow:global_step/sec: 200.627\n",
      "INFO:tensorflow:loss = 0.600869, step = 36401 (0.514 sec)\n",
      "INFO:tensorflow:global_step/sec: 191.896\n",
      "INFO:tensorflow:loss = 0.94188213, step = 36501 (0.505 sec)\n",
      "INFO:tensorflow:global_step/sec: 192.948\n",
      "INFO:tensorflow:loss = 0.4472599, step = 36601 (0.522 sec)\n",
      "INFO:tensorflow:global_step/sec: 203.312\n",
      "INFO:tensorflow:loss = 0.7212869, step = 36701 (0.488 sec)\n",
      "INFO:tensorflow:global_step/sec: 195.81\n",
      "INFO:tensorflow:loss = 0.49717602, step = 36801 (0.511 sec)\n",
      "INFO:tensorflow:global_step/sec: 203.958\n",
      "INFO:tensorflow:loss = 0.8863064, step = 36901 (0.490 sec)\n",
      "INFO:tensorflow:global_step/sec: 203.701\n",
      "INFO:tensorflow:loss = 0.73913705, step = 37001 (0.507 sec)\n",
      "INFO:tensorflow:global_step/sec: 199.857\n",
      "INFO:tensorflow:loss = 0.6299588, step = 37101 (0.485 sec)\n",
      "INFO:tensorflow:global_step/sec: 202.617\n",
      "INFO:tensorflow:loss = 0.9890748, step = 37201 (0.509 sec)\n",
      "INFO:tensorflow:global_step/sec: 194.695\n",
      "INFO:tensorflow:loss = 0.43459374, step = 37301 (0.502 sec)\n",
      "INFO:tensorflow:global_step/sec: 195.308\n",
      "INFO:tensorflow:loss = 0.6139299, step = 37401 (0.512 sec)\n",
      "INFO:tensorflow:global_step/sec: 201.129\n",
      "INFO:tensorflow:loss = 0.7871865, step = 37501 (0.493 sec)\n",
      "INFO:tensorflow:global_step/sec: 191.879\n",
      "INFO:tensorflow:loss = 0.5329216, step = 37601 (0.537 sec)\n",
      "INFO:tensorflow:global_step/sec: 198.007\n",
      "INFO:tensorflow:loss = 0.5946542, step = 37701 (0.489 sec)\n",
      "INFO:tensorflow:global_step/sec: 205.879\n",
      "INFO:tensorflow:loss = 0.7021793, step = 37801 (0.501 sec)\n",
      "INFO:tensorflow:global_step/sec: 197.283\n",
      "INFO:tensorflow:loss = 0.44703394, step = 37901 (0.491 sec)\n",
      "INFO:tensorflow:global_step/sec: 205.821\n",
      "INFO:tensorflow:loss = 0.55322725, step = 38001 (0.503 sec)\n",
      "INFO:tensorflow:global_step/sec: 196.688\n",
      "INFO:tensorflow:loss = 0.407331, step = 38101 (0.492 sec)\n",
      "INFO:tensorflow:global_step/sec: 199.05\n",
      "INFO:tensorflow:loss = 0.73752654, step = 38201 (0.502 sec)\n",
      "INFO:tensorflow:global_step/sec: 201.573\n",
      "INFO:tensorflow:loss = 0.62545586, step = 38301 (0.496 sec)\n",
      "INFO:tensorflow:global_step/sec: 203.964\n",
      "INFO:tensorflow:loss = 0.36911747, step = 38401 (0.506 sec)\n",
      "INFO:tensorflow:global_step/sec: 192.125\n",
      "INFO:tensorflow:loss = 0.33914918, step = 38501 (0.509 sec)\n",
      "INFO:tensorflow:global_step/sec: 200.698\n",
      "INFO:tensorflow:loss = 0.9964369, step = 38601 (0.494 sec)\n",
      "INFO:tensorflow:global_step/sec: 197.397\n",
      "INFO:tensorflow:loss = 0.57599366, step = 38701 (0.511 sec)\n",
      "INFO:tensorflow:global_step/sec: 193.794\n",
      "INFO:tensorflow:loss = 0.56561995, step = 38801 (0.516 sec)\n",
      "INFO:tensorflow:global_step/sec: 198.424\n",
      "INFO:tensorflow:loss = 0.51802576, step = 38901 (0.500 sec)\n",
      "INFO:tensorflow:global_step/sec: 200.423\n",
      "INFO:tensorflow:loss = 0.5989709, step = 39001 (0.499 sec)\n",
      "INFO:tensorflow:global_step/sec: 195.518\n",
      "INFO:tensorflow:loss = 0.43691188, step = 39101 (0.511 sec)\n",
      "INFO:tensorflow:global_step/sec: 186.352\n",
      "INFO:tensorflow:loss = 0.50304693, step = 39201 (0.541 sec)\n",
      "INFO:tensorflow:global_step/sec: 196.89\n",
      "INFO:tensorflow:loss = 0.8154273, step = 39301 (0.504 sec)\n",
      "INFO:tensorflow:global_step/sec: 196.819\n",
      "INFO:tensorflow:loss = 0.48679098, step = 39401 (0.512 sec)\n",
      "INFO:tensorflow:global_step/sec: 194.738\n",
      "INFO:tensorflow:loss = 0.6162445, step = 39501 (0.510 sec)\n",
      "INFO:tensorflow:global_step/sec: 195.357\n",
      "INFO:tensorflow:loss = 0.52515614, step = 39601 (0.512 sec)\n"
     ]
    },
    {
     "name": "stdout",
     "output_type": "stream",
     "text": [
      "INFO:tensorflow:global_step/sec: 197.174\n",
      "INFO:tensorflow:loss = 0.76704895, step = 39701 (0.511 sec)\n",
      "INFO:tensorflow:global_step/sec: 197.507\n",
      "INFO:tensorflow:loss = 0.6460442, step = 39801 (0.502 sec)\n",
      "INFO:tensorflow:global_step/sec: 193.755\n",
      "INFO:tensorflow:loss = 0.7525922, step = 39901 (0.520 sec)\n",
      "INFO:tensorflow:Saving checkpoints for 40000 into C:\\Users\\Owner\\AppData\\Local\\Temp\\tmpkt89o0q7\\model.ckpt.\n",
      "INFO:tensorflow:Loss for final step: 0.40864572.\n"
     ]
    },
    {
     "data": {
      "text/plain": [
       "SKCompat()"
      ]
     },
     "execution_count": 154,
     "metadata": {},
     "output_type": "execute_result"
    }
   ],
   "source": [
    "dnn_clf_model3 = tf.contrib.learn.DNNClassifier(hidden_units=[350,150], n_classes=10,\n",
    "                                        feature_columns=feature_cols)\n",
    "dnn_clf_model3 = tf.contrib.learn.SKCompat(dnn_clf_model3)\n",
    "dnn_clf_model3.fit(X_train, y_train, batch_size=20, steps=40000)"
   ]
  },
  {
   "cell_type": "code",
   "execution_count": 155,
   "metadata": {},
   "outputs": [
    {
     "name": "stdout",
     "output_type": "stream",
     "text": [
      "INFO:tensorflow:Restoring parameters from C:\\Users\\Owner\\AppData\\Local\\Temp\\tmp8qjx5i8s\\model.ckpt-4000\n",
      "77.83\n"
     ]
    }
   ],
   "source": [
    "y_pred = dnn_clf_model2.predict(X_test)\n",
    "accuracy = accuracy_score(y_test, y_pred['classes'])\n",
    "print (accuracy*100)"
   ]
  },
  {
   "cell_type": "markdown",
   "metadata": {},
   "source": [
    "If we keep the standard number of neurons but change the number of steps and the batch size we get no difference between model 2 and model 3. "
   ]
  },
  {
   "cell_type": "markdown",
   "metadata": {},
   "source": [
    "# Model 4:"
   ]
  },
  {
   "cell_type": "markdown",
   "metadata": {},
   "source": [
    "I want to use a tensorflow neural network model with lower level API to have better control. This will be using the standard model."
   ]
  },
  {
   "cell_type": "code",
   "execution_count": 157,
   "metadata": {},
   "outputs": [],
   "source": [
    "n_inputs = 28*28\n",
    "n_hidden1 = 300\n",
    "n_hidden2 = 100\n",
    "n_outputs = 10"
   ]
  },
  {
   "cell_type": "code",
   "execution_count": 158,
   "metadata": {},
   "outputs": [],
   "source": [
    "reset_graph()\n",
    "\n",
    "X = tf.placeholder(tf.float32, shape=(None, n_inputs), name=\"X\")\n",
    "y = tf.placeholder(tf.int64, shape=(None), name=\"y\")"
   ]
  },
  {
   "cell_type": "code",
   "execution_count": 159,
   "metadata": {},
   "outputs": [],
   "source": [
    "def neuron_layer(X, n_neurons, name, activation=None):\n",
    "    with tf.name_scope(name):\n",
    "        n_inputs = int(X.get_shape()[1])\n",
    "        stddev = 2 / np.sqrt(n_inputs)\n",
    "        init = tf.truncated_normal((n_inputs, n_neurons), stddev=stddev)\n",
    "        W = tf.Variable(init, name=\"kernel\")\n",
    "        b = tf.Variable(tf.zeros([n_neurons]), name=\"bias\")\n",
    "        Z = tf.matmul(X, W) + b\n",
    "        if activation is not None:\n",
    "            return activation(Z)\n",
    "        else:\n",
    "            return Z"
   ]
  },
  {
   "cell_type": "code",
   "execution_count": 160,
   "metadata": {},
   "outputs": [],
   "source": [
    "with tf.name_scope(\"dnn\"):\n",
    "    hidden1 = neuron_layer(X, n_hidden1, name=\"hidden1\",\n",
    "                           activation=tf.nn.relu) # standard activation function\n",
    "    hidden2 = neuron_layer(hidden1, n_hidden2, name=\"hidden2\",\n",
    "                           activation=tf.nn.relu)\n",
    "    logits = neuron_layer(hidden2, n_outputs, name=\"outputs\")"
   ]
  },
  {
   "cell_type": "code",
   "execution_count": 161,
   "metadata": {},
   "outputs": [],
   "source": [
    "with tf.name_scope(\"loss\"):\n",
    "    xentropy = tf.nn.sparse_softmax_cross_entropy_with_logits(labels=y,\n",
    "                                                              logits=logits)\n",
    "    loss = tf.reduce_mean(xentropy, name=\"loss\")"
   ]
  },
  {
   "cell_type": "code",
   "execution_count": 162,
   "metadata": {},
   "outputs": [],
   "source": [
    "learning_rate = 0.01\n",
    "\n",
    "with tf.name_scope(\"train\"):\n",
    "    optimizer = tf.train.GradientDescentOptimizer(learning_rate)\n",
    "    training_op = optimizer.minimize(loss)"
   ]
  },
  {
   "cell_type": "code",
   "execution_count": 163,
   "metadata": {},
   "outputs": [],
   "source": [
    "with tf.name_scope(\"eval\"):\n",
    "    correct = tf.nn.in_top_k(logits, y, 1)\n",
    "    accuracy = tf.reduce_mean(tf.cast(correct, tf.float32))"
   ]
  },
  {
   "cell_type": "code",
   "execution_count": 164,
   "metadata": {},
   "outputs": [],
   "source": [
    "init = tf.global_variables_initializer()\n",
    "saver = tf.train.Saver()"
   ]
  },
  {
   "cell_type": "code",
   "execution_count": null,
   "metadata": {},
   "outputs": [],
   "source": [
    "n_epochs = 4\n",
    "batch_size = 50"
   ]
  },
  {
   "cell_type": "code",
   "execution_count": null,
   "metadata": {
    "scrolled": true
   },
   "outputs": [],
   "source": [
    "with tf.Session() as sess:\n",
    "    init.run()\n",
    "    for epoch in range(n_epochs):\n",
    "        for iteration in range(60000 // batch_size):\n",
    "            X_batch, y_batch = X_train, y_train \n",
    "            sess.run(training_op, feed_dict={X: X_batch, y: y_batch})\n",
    "        acc_train = accuracy.eval(feed_dict={X: X_batch, y: y_batch})\n",
    "        acc_val = accuracy.eval(feed_dict={X: X_test,\n",
    "                                            y: y_test})\n",
    "        print(epoch, \"Train accuracy:\", acc_train, \"Val accuracy:\", acc_val)\n",
    "\n",
    "    save_path = saver.save(sess, \"./my_model_final.ckpt\")"
   ]
  },
  {
   "cell_type": "code",
   "execution_count": null,
   "metadata": {},
   "outputs": [],
   "source": [
    "print(\"Predicted classes:\", y_pred)\n",
    "print(\"Actual classes:   \", y_test)"
   ]
  },
  {
   "cell_type": "code",
   "execution_count": null,
   "metadata": {},
   "outputs": [],
   "source": [
    "from IPython.display import clear_output, Image, display, HTML\n",
    "\n",
    "def strip_consts(graph_def, max_const_size=32):\n",
    "    \"\"\"Strip large constant values from graph_def.\"\"\"\n",
    "    strip_def = tf.GraphDef()\n",
    "    for n0 in graph_def.node:\n",
    "        n = strip_def.node.add() \n",
    "        n.MergeFrom(n0)\n",
    "        if n.op == 'Const':\n",
    "            tensor = n.attr['value'].tensor\n",
    "            size = len(tensor.tensor_content)\n",
    "            if size > max_const_size:\n",
    "                tensor.tensor_content = b\"<stripped %d bytes>\"%size\n",
    "    return strip_def\n",
    "\n",
    "def show_graph(graph_def, max_const_size=32):\n",
    "    \"\"\"Visualize TensorFlow graph.\"\"\"\n",
    "    if hasattr(graph_def, 'as_graph_def'):\n",
    "        graph_def = graph_def.as_graph_def()\n",
    "    strip_def = strip_consts(graph_def, max_const_size=max_const_size)\n",
    "    code = \"\"\"\n",
    "        <script>\n",
    "          function load() {{\n",
    "            document.getElementById(\"{id}\").pbtxt = {data};\n",
    "          }}\n",
    "        </script>\n",
    "        <link rel=\"import\" href=\"https://tensorboard.appspot.com/tf-graph-basic.build.html\" onload=load()>\n",
    "        <div style=\"height:600px\">\n",
    "          <tf-graph-basic id=\"{id}\"></tf-graph-basic>\n",
    "        </div>\n",
    "    \"\"\".format(data=repr(str(strip_def)), id='graph'+str(np.random.rand()))\n",
    "\n",
    "    iframe = \"\"\"\n",
    "        <iframe seamless style=\"width:1200px;height:620px;border:0\" srcdoc=\"{}\"></iframe>\n",
    "    \"\"\".format(code.replace('\"', '&quot;'))\n",
    "    display(HTML(iframe))"
   ]
  },
  {
   "cell_type": "code",
   "execution_count": null,
   "metadata": {},
   "outputs": [],
   "source": [
    "show_graph(tf.get_default_graph())"
   ]
  },
  {
   "cell_type": "markdown",
   "metadata": {},
   "source": [
    "My conclusion is the more hidden layers I input, the better the performance we can find. This makes sense because your applying more filters as each layer gets passed down. Sadly there isn't a sound process or method to finding the optimal number of hidden layers or neurons per layer but trial and error is the best way to learn new things. I used the relu activation function because it is the activation function used for the MNIST dataset and if that dataset is receiving 98% accuracy then I don't see why it would be the best activation functio to you use for my dataset, especially since it is a similar set. "
   ]
  },
  {
   "cell_type": "markdown",
   "metadata": {},
   "source": [
    "# Presenting my Solution"
   ]
  },
  {
   "cell_type": "markdown",
   "metadata": {},
   "source": [
    "My solution to the problem has very good potential seeing that the accuracy improves as hyperparameters are tweaked. This will be scalable to very large data samples because neural networks work in iterations. As each batch is looked at in certain iterations the accuracy improves. We don't want the batch size to be too big because then it will overfit the data while if the batch size is too small it will underfit. Using a gridsearch maybe I can find a sweet spot as far as the number of times the model runs but there isn't a proven way to do so. If this were a fashion comapny trying to classfiy there catalogs of fashion designs then I could pitch the solution as being a model proven to increase in accuracy therefor having high potential value. The money the company can make off this solution is far greater than the cost of time being used to figure out the optimal parameter settings for the model.So far we know that the iteration parameter and batch size parameter are not as important as the number of neurons and hidden layers. This narrows our prime search with those two fields. This saves us time in the long run and if the project progresses I will focus on that area of work. "
   ]
  },
  {
   "cell_type": "markdown",
   "metadata": {},
   "source": [
    "# Plan for future"
   ]
  },
  {
   "cell_type": "markdown",
   "metadata": {},
   "source": [
    "Sadly this neural network did not outperform SVM or other classifyer models. This may be because the dataset isn't large enough as well as complicated enough for us to use in a large scale. Other reasons might be because of the way the model approaches the problem. I simply may be overshooting my model's hyperparameters and need to tweak them to reach optimal performance. This model has potential for the future but if we are only sticking with the dataset we have then SVM might be a better look as it gets above 90% accuracy on the test set. I am not satisified with the system just yet but once I get more training data and time to improve the model's hyperparameters this may acheive higher accuracy than SVM. The problem isn't serious enough for us to use only this model which is why it isn't under such urgency. My suggestion for the future is to work with SVM for now and if the dataset grows larger then switch to a neural network. Possibly Convolution Neural Network, which is a much deeper complicated form of a DNN."
   ]
  },
  {
   "cell_type": "code",
   "execution_count": null,
   "metadata": {},
   "outputs": [],
   "source": []
  }
 ],
 "metadata": {
  "kernelspec": {
   "display_name": "Python 3",
   "language": "python",
   "name": "python3"
  },
  "language_info": {
   "codemirror_mode": {
    "name": "ipython",
    "version": 3
   },
   "file_extension": ".py",
   "mimetype": "text/x-python",
   "name": "python",
   "nbconvert_exporter": "python",
   "pygments_lexer": "ipython3",
   "version": "3.6.4"
  }
 },
 "nbformat": 4,
 "nbformat_minor": 2
}
