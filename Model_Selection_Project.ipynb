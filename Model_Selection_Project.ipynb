{
 "cells": [
  {
   "cell_type": "markdown",
   "metadata": {},
   "source": [
    "# Load the Data"
   ]
  },
  {
   "cell_type": "markdown",
   "metadata": {},
   "source": [
    "## Link\n",
    "https://github.com/fivethirtyeight/data/tree/master/candy-power-ranking"
   ]
  },
  {
   "cell_type": "markdown",
   "metadata": {},
   "source": [
    "I chose this dataset because I enjoy candy and have wondered what makes certain candy more likeable. I looked at the data and it seemed like there wasn't a lot that needed to be done to it clean up wise so that was good. In addition questions that usually don't have a numerical answer were quantified with 0's for nos and 1's for yes, making it easier for me to look at. The data set was also not too big, so I could work on it without struggling. "
   ]
  },
  {
   "cell_type": "code",
   "execution_count": 138,
   "metadata": {},
   "outputs": [],
   "source": [
    "# Load libraries\n",
    "import pandas as pd\n",
    "import numpy as np\n",
    "from sklearn.pipeline import Pipeline\n",
    "from sklearn.preprocessing import StandardScaler\n",
    "from sklearn.preprocessing import Imputer\n",
    "from pandas.plotting import scatter_matrix\n",
    "import matplotlib.pyplot as plt\n",
    "from sklearn import model_selection\n",
    "from sklearn.metrics import classification_report\n",
    "from sklearn.metrics import confusion_matrix\n",
    "from sklearn.metrics import accuracy_score\n",
    "from sklearn.tree import DecisionTreeClassifier\n",
    "from sklearn.svm import SVC\n",
    "from sklearn.linear_model import LinearRegression\n",
    "import hashlib\n",
    "from sklearn.model_selection import train_test_split"
   ]
  },
  {
   "cell_type": "code",
   "execution_count": 139,
   "metadata": {},
   "outputs": [],
   "source": [
    "# Load Dataset\n",
    "dataset = pandas.read_csv(\"candy-data.csv\")"
   ]
  },
  {
   "cell_type": "markdown",
   "metadata": {},
   "source": [
    "# Goal"
   ]
  },
  {
   "cell_type": "markdown",
   "metadata": {},
   "source": [
    "This is a dataset that looks at how certain candy can be liked and others disliked. The goal is to estimate whether a candy bar will be more likely or less likely to be chosen depending on which features it carries. For example 66% of a sample population like 100 grand candy bar while Almond Joy is at 50% of the same population. Some features include whether the candy contains chocolate, is it fruit flavored, does the candy contain caramel, etc. "
   ]
  },
  {
   "cell_type": "markdown",
   "metadata": {},
   "source": [
    "# Summarize the Dataset"
   ]
  },
  {
   "cell_type": "markdown",
   "metadata": {},
   "source": [
    "## Dimensions of Datset"
   ]
  },
  {
   "cell_type": "code",
   "execution_count": 140,
   "metadata": {},
   "outputs": [
    {
     "name": "stdout",
     "output_type": "stream",
     "text": [
      "(85, 13)\n"
     ]
    }
   ],
   "source": [
    "# shape\n",
    "print(dataset.shape)"
   ]
  },
  {
   "cell_type": "code",
   "execution_count": 141,
   "metadata": {},
   "outputs": [
    {
     "data": {
      "text/html": [
       "<div>\n",
       "<style scoped>\n",
       "    .dataframe tbody tr th:only-of-type {\n",
       "        vertical-align: middle;\n",
       "    }\n",
       "\n",
       "    .dataframe tbody tr th {\n",
       "        vertical-align: top;\n",
       "    }\n",
       "\n",
       "    .dataframe thead th {\n",
       "        text-align: right;\n",
       "    }\n",
       "</style>\n",
       "<table border=\"1\" class=\"dataframe\">\n",
       "  <thead>\n",
       "    <tr style=\"text-align: right;\">\n",
       "      <th></th>\n",
       "      <th>competitorname</th>\n",
       "      <th>chocolate</th>\n",
       "      <th>fruity</th>\n",
       "      <th>caramel</th>\n",
       "      <th>peanutyalmondy</th>\n",
       "      <th>nougat</th>\n",
       "      <th>crispedricewafer</th>\n",
       "      <th>hard</th>\n",
       "      <th>bar</th>\n",
       "      <th>pluribus</th>\n",
       "      <th>sugarpercent</th>\n",
       "      <th>pricepercent</th>\n",
       "      <th>winpercent</th>\n",
       "    </tr>\n",
       "  </thead>\n",
       "  <tbody>\n",
       "    <tr>\n",
       "      <th>0</th>\n",
       "      <td>100 Grand</td>\n",
       "      <td>1</td>\n",
       "      <td>0</td>\n",
       "      <td>1</td>\n",
       "      <td>0</td>\n",
       "      <td>0</td>\n",
       "      <td>1</td>\n",
       "      <td>0</td>\n",
       "      <td>1</td>\n",
       "      <td>0</td>\n",
       "      <td>0.732</td>\n",
       "      <td>0.860</td>\n",
       "      <td>66.971725</td>\n",
       "    </tr>\n",
       "    <tr>\n",
       "      <th>1</th>\n",
       "      <td>3 Musketeers</td>\n",
       "      <td>1</td>\n",
       "      <td>0</td>\n",
       "      <td>0</td>\n",
       "      <td>0</td>\n",
       "      <td>1</td>\n",
       "      <td>0</td>\n",
       "      <td>0</td>\n",
       "      <td>1</td>\n",
       "      <td>0</td>\n",
       "      <td>0.604</td>\n",
       "      <td>0.511</td>\n",
       "      <td>67.602936</td>\n",
       "    </tr>\n",
       "    <tr>\n",
       "      <th>2</th>\n",
       "      <td>One dime</td>\n",
       "      <td>0</td>\n",
       "      <td>0</td>\n",
       "      <td>0</td>\n",
       "      <td>0</td>\n",
       "      <td>0</td>\n",
       "      <td>0</td>\n",
       "      <td>0</td>\n",
       "      <td>0</td>\n",
       "      <td>0</td>\n",
       "      <td>0.011</td>\n",
       "      <td>0.116</td>\n",
       "      <td>32.261086</td>\n",
       "    </tr>\n",
       "    <tr>\n",
       "      <th>3</th>\n",
       "      <td>One quarter</td>\n",
       "      <td>0</td>\n",
       "      <td>0</td>\n",
       "      <td>0</td>\n",
       "      <td>0</td>\n",
       "      <td>0</td>\n",
       "      <td>0</td>\n",
       "      <td>0</td>\n",
       "      <td>0</td>\n",
       "      <td>0</td>\n",
       "      <td>0.011</td>\n",
       "      <td>0.511</td>\n",
       "      <td>46.116505</td>\n",
       "    </tr>\n",
       "    <tr>\n",
       "      <th>4</th>\n",
       "      <td>Air Heads</td>\n",
       "      <td>0</td>\n",
       "      <td>1</td>\n",
       "      <td>0</td>\n",
       "      <td>0</td>\n",
       "      <td>0</td>\n",
       "      <td>0</td>\n",
       "      <td>0</td>\n",
       "      <td>0</td>\n",
       "      <td>0</td>\n",
       "      <td>0.906</td>\n",
       "      <td>0.511</td>\n",
       "      <td>52.341465</td>\n",
       "    </tr>\n",
       "    <tr>\n",
       "      <th>5</th>\n",
       "      <td>Almond Joy</td>\n",
       "      <td>1</td>\n",
       "      <td>0</td>\n",
       "      <td>0</td>\n",
       "      <td>1</td>\n",
       "      <td>0</td>\n",
       "      <td>0</td>\n",
       "      <td>0</td>\n",
       "      <td>1</td>\n",
       "      <td>0</td>\n",
       "      <td>0.465</td>\n",
       "      <td>0.767</td>\n",
       "      <td>50.347546</td>\n",
       "    </tr>\n",
       "    <tr>\n",
       "      <th>6</th>\n",
       "      <td>Baby Ruth</td>\n",
       "      <td>1</td>\n",
       "      <td>0</td>\n",
       "      <td>1</td>\n",
       "      <td>1</td>\n",
       "      <td>1</td>\n",
       "      <td>0</td>\n",
       "      <td>0</td>\n",
       "      <td>1</td>\n",
       "      <td>0</td>\n",
       "      <td>0.604</td>\n",
       "      <td>0.767</td>\n",
       "      <td>56.914547</td>\n",
       "    </tr>\n",
       "    <tr>\n",
       "      <th>7</th>\n",
       "      <td>Boston Baked Beans</td>\n",
       "      <td>0</td>\n",
       "      <td>0</td>\n",
       "      <td>0</td>\n",
       "      <td>1</td>\n",
       "      <td>0</td>\n",
       "      <td>0</td>\n",
       "      <td>0</td>\n",
       "      <td>0</td>\n",
       "      <td>1</td>\n",
       "      <td>0.313</td>\n",
       "      <td>0.511</td>\n",
       "      <td>23.417824</td>\n",
       "    </tr>\n",
       "    <tr>\n",
       "      <th>8</th>\n",
       "      <td>Candy Corn</td>\n",
       "      <td>0</td>\n",
       "      <td>0</td>\n",
       "      <td>0</td>\n",
       "      <td>0</td>\n",
       "      <td>0</td>\n",
       "      <td>0</td>\n",
       "      <td>0</td>\n",
       "      <td>0</td>\n",
       "      <td>1</td>\n",
       "      <td>0.906</td>\n",
       "      <td>0.325</td>\n",
       "      <td>38.010963</td>\n",
       "    </tr>\n",
       "    <tr>\n",
       "      <th>9</th>\n",
       "      <td>Caramel Apple Pops</td>\n",
       "      <td>0</td>\n",
       "      <td>1</td>\n",
       "      <td>1</td>\n",
       "      <td>0</td>\n",
       "      <td>0</td>\n",
       "      <td>0</td>\n",
       "      <td>0</td>\n",
       "      <td>0</td>\n",
       "      <td>0</td>\n",
       "      <td>0.604</td>\n",
       "      <td>0.325</td>\n",
       "      <td>34.517681</td>\n",
       "    </tr>\n",
       "    <tr>\n",
       "      <th>10</th>\n",
       "      <td>Charleston Chew</td>\n",
       "      <td>1</td>\n",
       "      <td>0</td>\n",
       "      <td>0</td>\n",
       "      <td>0</td>\n",
       "      <td>1</td>\n",
       "      <td>0</td>\n",
       "      <td>0</td>\n",
       "      <td>1</td>\n",
       "      <td>0</td>\n",
       "      <td>0.604</td>\n",
       "      <td>0.511</td>\n",
       "      <td>38.975037</td>\n",
       "    </tr>\n",
       "    <tr>\n",
       "      <th>11</th>\n",
       "      <td>Chewey Lemonhead Fruit Mix</td>\n",
       "      <td>0</td>\n",
       "      <td>1</td>\n",
       "      <td>0</td>\n",
       "      <td>0</td>\n",
       "      <td>0</td>\n",
       "      <td>0</td>\n",
       "      <td>0</td>\n",
       "      <td>0</td>\n",
       "      <td>1</td>\n",
       "      <td>0.732</td>\n",
       "      <td>0.511</td>\n",
       "      <td>36.017628</td>\n",
       "    </tr>\n",
       "    <tr>\n",
       "      <th>12</th>\n",
       "      <td>Chiclets</td>\n",
       "      <td>0</td>\n",
       "      <td>1</td>\n",
       "      <td>0</td>\n",
       "      <td>0</td>\n",
       "      <td>0</td>\n",
       "      <td>0</td>\n",
       "      <td>0</td>\n",
       "      <td>0</td>\n",
       "      <td>1</td>\n",
       "      <td>0.046</td>\n",
       "      <td>0.325</td>\n",
       "      <td>24.524988</td>\n",
       "    </tr>\n",
       "    <tr>\n",
       "      <th>13</th>\n",
       "      <td>Dots</td>\n",
       "      <td>0</td>\n",
       "      <td>1</td>\n",
       "      <td>0</td>\n",
       "      <td>0</td>\n",
       "      <td>0</td>\n",
       "      <td>0</td>\n",
       "      <td>0</td>\n",
       "      <td>0</td>\n",
       "      <td>1</td>\n",
       "      <td>0.732</td>\n",
       "      <td>0.511</td>\n",
       "      <td>42.272076</td>\n",
       "    </tr>\n",
       "    <tr>\n",
       "      <th>14</th>\n",
       "      <td>Dum Dums</td>\n",
       "      <td>0</td>\n",
       "      <td>1</td>\n",
       "      <td>0</td>\n",
       "      <td>0</td>\n",
       "      <td>0</td>\n",
       "      <td>0</td>\n",
       "      <td>1</td>\n",
       "      <td>0</td>\n",
       "      <td>0</td>\n",
       "      <td>0.732</td>\n",
       "      <td>0.034</td>\n",
       "      <td>39.460556</td>\n",
       "    </tr>\n",
       "    <tr>\n",
       "      <th>15</th>\n",
       "      <td>Fruit Chews</td>\n",
       "      <td>0</td>\n",
       "      <td>1</td>\n",
       "      <td>0</td>\n",
       "      <td>0</td>\n",
       "      <td>0</td>\n",
       "      <td>0</td>\n",
       "      <td>0</td>\n",
       "      <td>0</td>\n",
       "      <td>1</td>\n",
       "      <td>0.127</td>\n",
       "      <td>0.034</td>\n",
       "      <td>43.088924</td>\n",
       "    </tr>\n",
       "    <tr>\n",
       "      <th>16</th>\n",
       "      <td>Fun Dip</td>\n",
       "      <td>0</td>\n",
       "      <td>1</td>\n",
       "      <td>0</td>\n",
       "      <td>0</td>\n",
       "      <td>0</td>\n",
       "      <td>0</td>\n",
       "      <td>1</td>\n",
       "      <td>0</td>\n",
       "      <td>0</td>\n",
       "      <td>0.732</td>\n",
       "      <td>0.325</td>\n",
       "      <td>39.185505</td>\n",
       "    </tr>\n",
       "    <tr>\n",
       "      <th>17</th>\n",
       "      <td>Gobstopper</td>\n",
       "      <td>0</td>\n",
       "      <td>1</td>\n",
       "      <td>0</td>\n",
       "      <td>0</td>\n",
       "      <td>0</td>\n",
       "      <td>0</td>\n",
       "      <td>1</td>\n",
       "      <td>0</td>\n",
       "      <td>1</td>\n",
       "      <td>0.906</td>\n",
       "      <td>0.453</td>\n",
       "      <td>46.783348</td>\n",
       "    </tr>\n",
       "    <tr>\n",
       "      <th>18</th>\n",
       "      <td>Haribo Gold Bears</td>\n",
       "      <td>0</td>\n",
       "      <td>1</td>\n",
       "      <td>0</td>\n",
       "      <td>0</td>\n",
       "      <td>0</td>\n",
       "      <td>0</td>\n",
       "      <td>0</td>\n",
       "      <td>0</td>\n",
       "      <td>1</td>\n",
       "      <td>0.465</td>\n",
       "      <td>0.465</td>\n",
       "      <td>57.119740</td>\n",
       "    </tr>\n",
       "    <tr>\n",
       "      <th>19</th>\n",
       "      <td>Haribo Happy Cola</td>\n",
       "      <td>0</td>\n",
       "      <td>0</td>\n",
       "      <td>0</td>\n",
       "      <td>0</td>\n",
       "      <td>0</td>\n",
       "      <td>0</td>\n",
       "      <td>0</td>\n",
       "      <td>0</td>\n",
       "      <td>1</td>\n",
       "      <td>0.465</td>\n",
       "      <td>0.465</td>\n",
       "      <td>34.158958</td>\n",
       "    </tr>\n",
       "  </tbody>\n",
       "</table>\n",
       "</div>"
      ],
      "text/plain": [
       "                competitorname  chocolate  fruity  caramel  peanutyalmondy  \\\n",
       "0                    100 Grand          1       0        1               0   \n",
       "1                 3 Musketeers          1       0        0               0   \n",
       "2                     One dime          0       0        0               0   \n",
       "3                  One quarter          0       0        0               0   \n",
       "4                    Air Heads          0       1        0               0   \n",
       "5                   Almond Joy          1       0        0               1   \n",
       "6                    Baby Ruth          1       0        1               1   \n",
       "7           Boston Baked Beans          0       0        0               1   \n",
       "8                   Candy Corn          0       0        0               0   \n",
       "9           Caramel Apple Pops          0       1        1               0   \n",
       "10             Charleston Chew          1       0        0               0   \n",
       "11  Chewey Lemonhead Fruit Mix          0       1        0               0   \n",
       "12                    Chiclets          0       1        0               0   \n",
       "13                        Dots          0       1        0               0   \n",
       "14                    Dum Dums          0       1        0               0   \n",
       "15                 Fruit Chews          0       1        0               0   \n",
       "16                     Fun Dip          0       1        0               0   \n",
       "17                  Gobstopper          0       1        0               0   \n",
       "18           Haribo Gold Bears          0       1        0               0   \n",
       "19           Haribo Happy Cola          0       0        0               0   \n",
       "\n",
       "    nougat  crispedricewafer  hard  bar  pluribus  sugarpercent  pricepercent  \\\n",
       "0        0                 1     0    1         0         0.732         0.860   \n",
       "1        1                 0     0    1         0         0.604         0.511   \n",
       "2        0                 0     0    0         0         0.011         0.116   \n",
       "3        0                 0     0    0         0         0.011         0.511   \n",
       "4        0                 0     0    0         0         0.906         0.511   \n",
       "5        0                 0     0    1         0         0.465         0.767   \n",
       "6        1                 0     0    1         0         0.604         0.767   \n",
       "7        0                 0     0    0         1         0.313         0.511   \n",
       "8        0                 0     0    0         1         0.906         0.325   \n",
       "9        0                 0     0    0         0         0.604         0.325   \n",
       "10       1                 0     0    1         0         0.604         0.511   \n",
       "11       0                 0     0    0         1         0.732         0.511   \n",
       "12       0                 0     0    0         1         0.046         0.325   \n",
       "13       0                 0     0    0         1         0.732         0.511   \n",
       "14       0                 0     1    0         0         0.732         0.034   \n",
       "15       0                 0     0    0         1         0.127         0.034   \n",
       "16       0                 0     1    0         0         0.732         0.325   \n",
       "17       0                 0     1    0         1         0.906         0.453   \n",
       "18       0                 0     0    0         1         0.465         0.465   \n",
       "19       0                 0     0    0         1         0.465         0.465   \n",
       "\n",
       "    winpercent  \n",
       "0    66.971725  \n",
       "1    67.602936  \n",
       "2    32.261086  \n",
       "3    46.116505  \n",
       "4    52.341465  \n",
       "5    50.347546  \n",
       "6    56.914547  \n",
       "7    23.417824  \n",
       "8    38.010963  \n",
       "9    34.517681  \n",
       "10   38.975037  \n",
       "11   36.017628  \n",
       "12   24.524988  \n",
       "13   42.272076  \n",
       "14   39.460556  \n",
       "15   43.088924  \n",
       "16   39.185505  \n",
       "17   46.783348  \n",
       "18   57.119740  \n",
       "19   34.158958  "
      ]
     },
     "execution_count": 141,
     "metadata": {},
     "output_type": "execute_result"
    }
   ],
   "source": [
    "# head\n",
    "dataset.head(20)"
   ]
  },
  {
   "cell_type": "code",
   "execution_count": 142,
   "metadata": {},
   "outputs": [
    {
     "name": "stdout",
     "output_type": "stream",
     "text": [
      "<class 'pandas.core.frame.DataFrame'>\n",
      "RangeIndex: 85 entries, 0 to 84\n",
      "Data columns (total 13 columns):\n",
      "competitorname      85 non-null object\n",
      "chocolate           85 non-null int64\n",
      "fruity              85 non-null int64\n",
      "caramel             85 non-null int64\n",
      "peanutyalmondy      85 non-null int64\n",
      "nougat              85 non-null int64\n",
      "crispedricewafer    85 non-null int64\n",
      "hard                85 non-null int64\n",
      "bar                 85 non-null int64\n",
      "pluribus            85 non-null int64\n",
      "sugarpercent        85 non-null float64\n",
      "pricepercent        85 non-null float64\n",
      "winpercent          85 non-null float64\n",
      "dtypes: float64(3), int64(9), object(1)\n",
      "memory usage: 8.7+ KB\n"
     ]
    }
   ],
   "source": [
    "dataset.info()"
   ]
  },
  {
   "cell_type": "markdown",
   "metadata": {},
   "source": [
    "As indicated by the above information:\n",
    "Dataset Size: Atleast 8.7. KB\n",
    "85 Entries\n",
    "13 Columns/Features\n",
    "Most of the features are in int64 data type with 3 in float64. "
   ]
  },
  {
   "cell_type": "markdown",
   "metadata": {},
   "source": [
    "# Data Visualization"
   ]
  },
  {
   "cell_type": "code",
   "execution_count": 143,
   "metadata": {},
   "outputs": [],
   "source": [
    "corr_matrix = dataset.corr()"
   ]
  },
  {
   "cell_type": "code",
   "execution_count": 144,
   "metadata": {},
   "outputs": [
    {
     "data": {
      "text/plain": [
       "winpercent          1.000000\n",
       "chocolate           0.636517\n",
       "bar                 0.429929\n",
       "peanutyalmondy      0.406192\n",
       "pricepercent        0.345325\n",
       "crispedricewafer    0.324680\n",
       "sugarpercent        0.229151\n",
       "caramel             0.213416\n",
       "nougat              0.199375\n",
       "pluribus           -0.247448\n",
       "hard               -0.310382\n",
       "fruity             -0.380938\n",
       "Name: winpercent, dtype: float64"
      ]
     },
     "execution_count": 144,
     "metadata": {},
     "output_type": "execute_result"
    }
   ],
   "source": [
    "corr_matrix['winpercent'].sort_values(ascending=False)"
   ]
  },
  {
   "cell_type": "markdown",
   "metadata": {},
   "source": [
    "Based on this data we can see that the winpercent is relativley closely related to whether or not it has chocolate in it. Another way to visualize it is to plot it."
   ]
  },
  {
   "cell_type": "code",
   "execution_count": 145,
   "metadata": {},
   "outputs": [],
   "source": [
    "attributes = ['winpercent', 'chocolate', 'peanutyalmondy', 'bar']"
   ]
  },
  {
   "cell_type": "code",
   "execution_count": 146,
   "metadata": {},
   "outputs": [
    {
     "data": {
      "image/png": "[encoded data removed]",
      "text/plain": [
       "<matplotlib.figure.Figure at 0x7f0a9613c470>"
      ]
     },
     "metadata": {},
     "output_type": "display_data"
    }
   ],
   "source": [
    "scatter_matrix(dataset[attributes], figsize = (12,8))\n",
    "plt.show()"
   ]
  },
  {
   "cell_type": "markdown",
   "metadata": {},
   "source": [
    "From our data the most promising correlation is between winpercent and chocolate. "
   ]
  },
  {
   "cell_type": "markdown",
   "metadata": {},
   "source": [
    "# Data Cleaning"
   ]
  },
  {
   "cell_type": "markdown",
   "metadata": {},
   "source": [
    "In order to use a ML algorithm, I need to omit non numerical data so This means removing the competitorname column. "
   ]
  },
  {
   "cell_type": "code",
   "execution_count": 147,
   "metadata": {},
   "outputs": [],
   "source": [
    "dataset.drop('competitorname', axis = 1, inplace = True)"
   ]
  },
  {
   "cell_type": "code",
   "execution_count": null,
   "metadata": {},
   "outputs": [],
   "source": []
  },
  {
   "cell_type": "markdown",
   "metadata": {},
   "source": [
    "# Select and Train a Model"
   ]
  },
  {
   "cell_type": "code",
   "execution_count": 148,
   "metadata": {},
   "outputs": [],
   "source": [
    "# Split-out validation dataset\n",
    "\n",
    "X = dataset[['chocolate','bar', 'peanutyalmondy', 'pricepercent', 'crispedricewafer', 'sugarpercent', 'caramel', 'nougat', 'pluribus', 'hard', 'fruity'] ]\n",
    "Y = dataset['winpercent']\n",
    "validation_size = 0.20\n",
    "seed = 7\n",
    "X_train, X_validation, Y_train, Y_validation = model_selection.train_test_split(X, Y, test_size=validation_size, random_state=seed)"
   ]
  },
  {
   "cell_type": "code",
   "execution_count": 149,
   "metadata": {},
   "outputs": [],
   "source": [
    "lin_reg = LinearRegression()"
   ]
  },
  {
   "cell_type": "code",
   "execution_count": 150,
   "metadata": {},
   "outputs": [
    {
     "data": {
      "text/plain": [
       "LinearRegression(copy_X=True, fit_intercept=True, n_jobs=1, normalize=False)"
      ]
     },
     "execution_count": 150,
     "metadata": {},
     "output_type": "execute_result"
    }
   ],
   "source": [
    "lin_reg.fit(X_train,Y_train)"
   ]
  },
  {
   "cell_type": "code",
   "execution_count": 151,
   "metadata": {},
   "outputs": [
    {
     "name": "stdout",
     "output_type": "stream",
     "text": [
      "[45.69303477 42.13570803 40.1282822  43.60171382 40.63395899 61.12281544\n",
      " 45.69303477 41.80062244 70.28584614 43.45801166 42.68105632 57.63143451\n",
      " 43.60171382 40.64086164 40.22063695 66.51688578 35.73901666]\n"
     ]
    }
   ],
   "source": [
    "data_predictions = ln.predict(X_validation)\n",
    "print(data_predictions)"
   ]
  },
  {
   "cell_type": "code",
   "execution_count": 152,
   "metadata": {},
   "outputs": [],
   "source": [
    "from sklearn.metrics import mean_squared_error\n",
    "\n",
    "lin_mse = mean_squared_error(Y_validation, data_predictions)"
   ]
  },
  {
   "cell_type": "code",
   "execution_count": 153,
   "metadata": {},
   "outputs": [
    {
     "data": {
      "text/plain": [
       "10.901319578421734"
      ]
     },
     "execution_count": 153,
     "metadata": {},
     "output_type": "execute_result"
    }
   ],
   "source": [
    "lin_rmse = np.sqrt(lin_mse)\n",
    "lin_rmse"
   ]
  },
  {
   "cell_type": "markdown",
   "metadata": {},
   "source": [
    "As can be seen the Linear regression model has a 10.9 difference between estimated values and what is actually there. This is alright but lets see if we can do better with the decision tree"
   ]
  },
  {
   "cell_type": "code",
   "execution_count": 154,
   "metadata": {},
   "outputs": [
    {
     "data": {
      "text/plain": [
       "DecisionTreeRegressor(criterion='mse', max_depth=None, max_features=None,\n",
       "           max_leaf_nodes=None, min_impurity_decrease=0.0,\n",
       "           min_impurity_split=None, min_samples_leaf=1,\n",
       "           min_samples_split=2, min_weight_fraction_leaf=0.0,\n",
       "           presort=False, random_state=42, splitter='best')"
      ]
     },
     "execution_count": 154,
     "metadata": {},
     "output_type": "execute_result"
    }
   ],
   "source": [
    "from sklearn.tree import DecisionTreeRegressor\n",
    "\n",
    "tree_reg = DecisionTreeRegressor(random_state=42)\n",
    "tree_reg.fit(X_train, Y_train)"
   ]
  },
  {
   "cell_type": "code",
   "execution_count": 155,
   "metadata": {},
   "outputs": [
    {
     "name": "stdout",
     "output_type": "stream",
     "text": [
      "[39.185505 23.417824 46.411716 42.178772 46.116505 50.347546 39.185505\n",
      " 52.825947 66.971725 41.265511 37.722336 43.068897 42.178772 47.173229\n",
      " 46.411716 56.914547 52.825947]\n"
     ]
    }
   ],
   "source": [
    "dataset_predictions = tree_reg.predict(X_validation)\n",
    "print(dataset_predictions)"
   ]
  },
  {
   "cell_type": "code",
   "execution_count": 156,
   "metadata": {},
   "outputs": [],
   "source": [
    "tree_mse = mean_squared_error(Y_validation, data_predictions)"
   ]
  },
  {
   "cell_type": "code",
   "execution_count": 157,
   "metadata": {},
   "outputs": [
    {
     "data": {
      "text/plain": [
       "10.901319578421734"
      ]
     },
     "execution_count": 157,
     "metadata": {},
     "output_type": "execute_result"
    }
   ],
   "source": [
    "tree_rmse = np.sqrt(tree_mse)\n",
    "tree_rmse"
   ]
  },
  {
   "cell_type": "markdown",
   "metadata": {},
   "source": [
    "So That's interesting, both of my values are the same. Based on that, I conclude that both the LinearRegression model and DecisionTreeRegressor are decent models but there is clearly room for improvement. Maybe if I check out other models like RandomForest Regressor I might get a smaller rmse value. "
   ]
  },
  {
   "cell_type": "code",
   "execution_count": 158,
   "metadata": {},
   "outputs": [],
   "source": [
    "from sklearn.model_selection import cross_val_score\n",
    "\n",
    "scores = cross_val_score(tree_reg, X_validation, Y_validation, \n",
    "                        scoring = 'neg_mean_squared_error', cv=10)\n",
    "tree_rmse_scores = np.sqrt(-scores)"
   ]
  },
  {
   "cell_type": "code",
   "execution_count": 159,
   "metadata": {},
   "outputs": [
    {
     "name": "stdout",
     "output_type": "stream",
     "text": [
      "Scores: [11.37385879  7.28114866 25.23756142 25.37679794 15.82428516 14.27066227\n",
      "  9.71972123 15.907246   10.099197    7.736098  ]\n",
      "Mean: 14.28265764748347\n",
      "Standard deviation: 6.219062035862253\n"
     ]
    }
   ],
   "source": [
    "def display_scores(scores):\n",
    "    print(\"Scores:\", scores)\n",
    "    print(\"Mean:\", scores.mean())\n",
    "    print(\"Standard deviation:\", scores.std())\n",
    "    \n",
    "display_scores(tree_rmse_scores)"
   ]
  },
  {
   "cell_type": "code",
   "execution_count": 160,
   "metadata": {},
   "outputs": [
    {
     "name": "stdout",
     "output_type": "stream",
     "text": [
      "Scores: [6.92042468e+00 4.85452423e+00 2.42795222e+14 2.12657807e+01\n",
      " 1.53493587e+01 1.22117807e+01 1.11684062e+01 1.07699633e+01\n",
      " 2.10024326e+01 1.76260261e+01]\n",
      "Mean: 24279522232206.14\n",
      "Standard deviation: 72838566696578.02\n"
     ]
    }
   ],
   "source": [
    "lin_scores = cross_val_score(lin_reg, X_validation, Y_validation,\n",
    "                             scoring = \"neg_mean_squared_error\", cv=10)\n",
    "lin_rmse_scores = np.sqrt(-lin_scores)\n",
    "display_scores(lin_rmse_scores)"
   ]
  },
  {
   "cell_type": "markdown",
   "metadata": {},
   "source": [
    "Now lets take a look at the RandomForest Regressor to see if it is better than Linear and Tree regressors"
   ]
  },
  {
   "cell_type": "code",
   "execution_count": 161,
   "metadata": {},
   "outputs": [
    {
     "data": {
      "text/plain": [
       "RandomForestRegressor(bootstrap=True, criterion='mse', max_depth=None,\n",
       "           max_features='auto', max_leaf_nodes=None,\n",
       "           min_impurity_decrease=0.0, min_impurity_split=None,\n",
       "           min_samples_leaf=1, min_samples_split=2,\n",
       "           min_weight_fraction_leaf=0.0, n_estimators=10, n_jobs=1,\n",
       "           oob_score=False, random_state=42, verbose=0, warm_start=False)"
      ]
     },
     "execution_count": 161,
     "metadata": {},
     "output_type": "execute_result"
    }
   ],
   "source": [
    "from sklearn.ensemble import RandomForestRegressor\n",
    "\n",
    "forest_reg = RandomForestRegressor(random_state = 42)\n",
    "forest_reg.fit(X_train, Y_train)"
   ]
  },
  {
   "cell_type": "code",
   "execution_count": 162,
   "metadata": {},
   "outputs": [
    {
     "data": {
      "text/plain": [
       "10.107868895006623"
      ]
     },
     "execution_count": 162,
     "metadata": {},
     "output_type": "execute_result"
    }
   ],
   "source": [
    "data_predictions = forest_reg.predict(X_validation)\n",
    "forest_mse = mean_squared_error(Y_validation, data_predictions)\n",
    "forest_rmse = np.sqrt(forest_mse)\n",
    "forest_rmse\n"
   ]
  },
  {
   "cell_type": "markdown",
   "metadata": {},
   "source": [
    "As can be seen the RandomForestRegressor is a little bit worse than the other two models. "
   ]
  },
  {
   "cell_type": "code",
   "execution_count": 163,
   "metadata": {},
   "outputs": [
    {
     "name": "stdout",
     "output_type": "stream",
     "text": [
      "Scores: [ 9.46921733  4.83229049 18.85144562 22.33190709  8.52737099 13.38938188\n",
      "  7.26086539 11.9355089  21.8010458  13.470779  ]\n",
      "Mean: 13.186981249407822\n",
      "Standard deviation: 5.7624566534659065\n"
     ]
    }
   ],
   "source": [
    "forest_scores = cross_val_score(forest_reg, X_validation, Y_validation, scoring = 'neg_mean_squared_error', cv=10)\n",
    "forest_rmse_scores = np.sqrt(-forest_scores)\n",
    "display_scores(forest_rmse_scores)"
   ]
  },
  {
   "cell_type": "code",
   "execution_count": 165,
   "metadata": {},
   "outputs": [
    {
     "data": {
      "text/plain": [
       "count    1.000000e+01\n",
       "mean     2.427952e+13\n",
       "std      7.677859e+13\n",
       "min      4.854524e+00\n",
       "25%      1.086957e+01\n",
       "50%      1.378057e+01\n",
       "75%      2.015833e+01\n",
       "max      2.427952e+14\n",
       "dtype: float64"
      ]
     },
     "execution_count": 165,
     "metadata": {},
     "output_type": "execute_result"
    }
   ],
   "source": [
    "scores = cross_val_score(lin_reg, X_validation, Y_validation, scoring=\"neg_mean_squared_error\", cv = 10)\n",
    "pd.Series(np.sqrt(-scores)).describe()"
   ]
  },
  {
   "cell_type": "code",
   "execution_count": 166,
   "metadata": {},
   "outputs": [
    {
     "data": {
      "text/plain": [
       "11.018310979697173"
      ]
     },
     "execution_count": 166,
     "metadata": {},
     "output_type": "execute_result"
    }
   ],
   "source": [
    "from sklearn.svm import SVR\n",
    "\n",
    "svm_reg = SVR(kernel=\"linear\")\n",
    "svm_reg.fit(X_validation, Y_validation)\n",
    "data_predictions = svm_reg.predict(X_validation)\n",
    "svm_mse = mean_squared_error(Y_validation, data_predictions)\n",
    "svm_rmse = np.sqrt(svm_mse)\n",
    "svm_rmse"
   ]
  },
  {
   "cell_type": "code",
   "execution_count": 167,
   "metadata": {},
   "outputs": [
    {
     "data": {
      "text/plain": [
       "GridSearchCV(cv=5, error_score='raise',\n",
       "       estimator=RandomForestRegressor(bootstrap=True, criterion='mse', max_depth=None,\n",
       "           max_features='auto', max_leaf_nodes=None,\n",
       "           min_impurity_decrease=0.0, min_impurity_split=None,\n",
       "           min_samples_leaf=1, min_samples_split=2,\n",
       "           min_weight_fraction_leaf=0.0, n_estimators=10, n_jobs=1,\n",
       "           oob_score=False, random_state=42, verbose=0, warm_start=False),\n",
       "       fit_params=None, iid=True, n_jobs=1,\n",
       "       param_grid=[{'n_estimators': [3, 10, 30], 'max_features': [2, 4, 6, 8]}, {'bootstrap': [False], 'n_estimators': [3, 10], 'max_features': [2, 3, 4]}],\n",
       "       pre_dispatch='2*n_jobs', refit=True, return_train_score='warn',\n",
       "       scoring='neg_mean_squared_error', verbose=0)"
      ]
     },
     "execution_count": 167,
     "metadata": {},
     "output_type": "execute_result"
    }
   ],
   "source": [
    "from sklearn.model_selection import GridSearchCV\n",
    "\n",
    "param_grid = [\n",
    "    # try 12 (3×4) combinations of hyperparameters\n",
    "    {'n_estimators': [3, 10, 30], 'max_features': [2, 4, 6, 8]},\n",
    "    # then try 6 (2×3) combinations with bootstrap set as False\n",
    "    {'bootstrap': [False], 'n_estimators': [3, 10], 'max_features': [2, 3, 4]},\n",
    "  ]\n",
    "\n",
    "forest_reg = RandomForestRegressor(random_state=42)\n",
    "# train across 5 folds, that's a total of (12+6)*5=90 rounds of training \n",
    "grid_search = GridSearchCV(forest_reg, param_grid, cv=5,\n",
    "                           scoring='neg_mean_squared_error')\n",
    "grid_search.fit(X_validation, Y_validation)"
   ]
  },
  {
   "cell_type": "code",
   "execution_count": 168,
   "metadata": {},
   "outputs": [
    {
     "data": {
      "text/plain": [
       "{'max_features': 8, 'n_estimators': 30}"
      ]
     },
     "execution_count": 168,
     "metadata": {},
     "output_type": "execute_result"
    }
   ],
   "source": [
    "grid_search.best_params_"
   ]
  },
  {
   "cell_type": "code",
   "execution_count": 169,
   "metadata": {},
   "outputs": [
    {
     "data": {
      "text/plain": [
       "RandomForestRegressor(bootstrap=True, criterion='mse', max_depth=None,\n",
       "           max_features=8, max_leaf_nodes=None, min_impurity_decrease=0.0,\n",
       "           min_impurity_split=None, min_samples_leaf=1,\n",
       "           min_samples_split=2, min_weight_fraction_leaf=0.0,\n",
       "           n_estimators=30, n_jobs=1, oob_score=False, random_state=42,\n",
       "           verbose=0, warm_start=False)"
      ]
     },
     "execution_count": 169,
     "metadata": {},
     "output_type": "execute_result"
    }
   ],
   "source": [
    "grid_search.best_estimator_"
   ]
  },
  {
   "cell_type": "code",
   "execution_count": 170,
   "metadata": {},
   "outputs": [
    {
     "name": "stdout",
     "output_type": "stream",
     "text": [
      "12.987762323911214 {'max_features': 2, 'n_estimators': 3}\n",
      "11.996343697963193 {'max_features': 2, 'n_estimators': 10}\n",
      "11.267454281541877 {'max_features': 2, 'n_estimators': 30}\n",
      "12.066334823521995 {'max_features': 4, 'n_estimators': 3}\n",
      "11.649167451789067 {'max_features': 4, 'n_estimators': 10}\n",
      "11.380670436901045 {'max_features': 4, 'n_estimators': 30}\n",
      "13.859715789344328 {'max_features': 6, 'n_estimators': 3}\n",
      "12.007168592851999 {'max_features': 6, 'n_estimators': 10}\n",
      "11.29715819128242 {'max_features': 6, 'n_estimators': 30}\n",
      "12.683837389225 {'max_features': 8, 'n_estimators': 3}\n",
      "11.23495026154335 {'max_features': 8, 'n_estimators': 10}\n",
      "10.964701401141692 {'max_features': 8, 'n_estimators': 30}\n",
      "12.649745646772503 {'bootstrap': False, 'max_features': 2, 'n_estimators': 3}\n",
      "12.650042471058862 {'bootstrap': False, 'max_features': 2, 'n_estimators': 10}\n",
      "12.05700638874808 {'bootstrap': False, 'max_features': 3, 'n_estimators': 3}\n",
      "11.469164030477753 {'bootstrap': False, 'max_features': 3, 'n_estimators': 10}\n",
      "11.942552702229635 {'bootstrap': False, 'max_features': 4, 'n_estimators': 3}\n",
      "11.940897644379481 {'bootstrap': False, 'max_features': 4, 'n_estimators': 10}\n"
     ]
    }
   ],
   "source": [
    "cvres = grid_search.cv_results_\n",
    "for mean_score, params in zip(cvres[\"mean_test_score\"], cvres[\"params\"]):\n",
    "    print(np.sqrt(-mean_score), params)"
   ]
  },
  {
   "cell_type": "code",
   "execution_count": 171,
   "metadata": {},
   "outputs": [
    {
     "name": "stderr",
     "output_type": "stream",
     "text": [
      "/home/owner/miniconda3/envs/nnseries/lib/python3.6/site-packages/sklearn/utils/deprecation.py:122: FutureWarning: You are accessing a training score ('mean_train_score'), which will not be available by default any more in 0.21. If you need training scores, please set return_train_score=True\n",
      "  warnings.warn(*warn_args, **warn_kwargs)\n",
      "/home/owner/miniconda3/envs/nnseries/lib/python3.6/site-packages/sklearn/utils/deprecation.py:122: FutureWarning: You are accessing a training score ('split0_train_score'), which will not be available by default any more in 0.21. If you need training scores, please set return_train_score=True\n",
      "  warnings.warn(*warn_args, **warn_kwargs)\n",
      "/home/owner/miniconda3/envs/nnseries/lib/python3.6/site-packages/sklearn/utils/deprecation.py:122: FutureWarning: You are accessing a training score ('split1_train_score'), which will not be available by default any more in 0.21. If you need training scores, please set return_train_score=True\n",
      "  warnings.warn(*warn_args, **warn_kwargs)\n",
      "/home/owner/miniconda3/envs/nnseries/lib/python3.6/site-packages/sklearn/utils/deprecation.py:122: FutureWarning: You are accessing a training score ('split2_train_score'), which will not be available by default any more in 0.21. If you need training scores, please set return_train_score=True\n",
      "  warnings.warn(*warn_args, **warn_kwargs)\n",
      "/home/owner/miniconda3/envs/nnseries/lib/python3.6/site-packages/sklearn/utils/deprecation.py:122: FutureWarning: You are accessing a training score ('split3_train_score'), which will not be available by default any more in 0.21. If you need training scores, please set return_train_score=True\n",
      "  warnings.warn(*warn_args, **warn_kwargs)\n",
      "/home/owner/miniconda3/envs/nnseries/lib/python3.6/site-packages/sklearn/utils/deprecation.py:122: FutureWarning: You are accessing a training score ('split4_train_score'), which will not be available by default any more in 0.21. If you need training scores, please set return_train_score=True\n",
      "  warnings.warn(*warn_args, **warn_kwargs)\n",
      "/home/owner/miniconda3/envs/nnseries/lib/python3.6/site-packages/sklearn/utils/deprecation.py:122: FutureWarning: You are accessing a training score ('std_train_score'), which will not be available by default any more in 0.21. If you need training scores, please set return_train_score=True\n",
      "  warnings.warn(*warn_args, **warn_kwargs)\n"
     ]
    },
    {
     "data": {
      "text/html": [
       "<div>\n",
       "<style scoped>\n",
       "    .dataframe tbody tr th:only-of-type {\n",
       "        vertical-align: middle;\n",
       "    }\n",
       "\n",
       "    .dataframe tbody tr th {\n",
       "        vertical-align: top;\n",
       "    }\n",
       "\n",
       "    .dataframe thead th {\n",
       "        text-align: right;\n",
       "    }\n",
       "</style>\n",
       "<table border=\"1\" class=\"dataframe\">\n",
       "  <thead>\n",
       "    <tr style=\"text-align: right;\">\n",
       "      <th></th>\n",
       "      <th>mean_fit_time</th>\n",
       "      <th>mean_score_time</th>\n",
       "      <th>mean_test_score</th>\n",
       "      <th>mean_train_score</th>\n",
       "      <th>param_bootstrap</th>\n",
       "      <th>param_max_features</th>\n",
       "      <th>param_n_estimators</th>\n",
       "      <th>params</th>\n",
       "      <th>rank_test_score</th>\n",
       "      <th>split0_test_score</th>\n",
       "      <th>...</th>\n",
       "      <th>split2_test_score</th>\n",
       "      <th>split2_train_score</th>\n",
       "      <th>split3_test_score</th>\n",
       "      <th>split3_train_score</th>\n",
       "      <th>split4_test_score</th>\n",
       "      <th>split4_train_score</th>\n",
       "      <th>std_fit_time</th>\n",
       "      <th>std_score_time</th>\n",
       "      <th>std_test_score</th>\n",
       "      <th>std_train_score</th>\n",
       "    </tr>\n",
       "  </thead>\n",
       "  <tbody>\n",
       "    <tr>\n",
       "      <th>0</th>\n",
       "      <td>0.004724</td>\n",
       "      <td>0.000844</td>\n",
       "      <td>-168.681970</td>\n",
       "      <td>-76.477072</td>\n",
       "      <td>NaN</td>\n",
       "      <td>2</td>\n",
       "      <td>3</td>\n",
       "      <td>{'max_features': 2, 'n_estimators': 3}</td>\n",
       "      <td>17</td>\n",
       "      <td>-19.325716</td>\n",
       "      <td>...</td>\n",
       "      <td>-130.235501</td>\n",
       "      <td>-90.710314</td>\n",
       "      <td>-73.055369</td>\n",
       "      <td>-107.412952</td>\n",
       "      <td>-388.177552</td>\n",
       "      <td>-87.747086</td>\n",
       "      <td>0.000300</td>\n",
       "      <td>0.000133</td>\n",
       "      <td>131.670028</td>\n",
       "      <td>26.259253</td>\n",
       "    </tr>\n",
       "    <tr>\n",
       "      <th>1</th>\n",
       "      <td>0.012911</td>\n",
       "      <td>0.001325</td>\n",
       "      <td>-143.912262</td>\n",
       "      <td>-45.593414</td>\n",
       "      <td>NaN</td>\n",
       "      <td>2</td>\n",
       "      <td>10</td>\n",
       "      <td>{'max_features': 2, 'n_estimators': 10}</td>\n",
       "      <td>10</td>\n",
       "      <td>-15.946010</td>\n",
       "      <td>...</td>\n",
       "      <td>-57.667958</td>\n",
       "      <td>-52.928586</td>\n",
       "      <td>-127.776832</td>\n",
       "      <td>-49.438882</td>\n",
       "      <td>-346.827858</td>\n",
       "      <td>-46.072892</td>\n",
       "      <td>0.001758</td>\n",
       "      <td>0.000215</td>\n",
       "      <td>114.576716</td>\n",
       "      <td>5.680859</td>\n",
       "    </tr>\n",
       "    <tr>\n",
       "      <th>2</th>\n",
       "      <td>0.029653</td>\n",
       "      <td>0.001887</td>\n",
       "      <td>-126.955526</td>\n",
       "      <td>-29.645869</td>\n",
       "      <td>NaN</td>\n",
       "      <td>2</td>\n",
       "      <td>30</td>\n",
       "      <td>{'max_features': 2, 'n_estimators': 30}</td>\n",
       "      <td>3</td>\n",
       "      <td>-17.737776</td>\n",
       "      <td>...</td>\n",
       "      <td>-71.866777</td>\n",
       "      <td>-32.269930</td>\n",
       "      <td>-151.792338</td>\n",
       "      <td>-29.607755</td>\n",
       "      <td>-213.002746</td>\n",
       "      <td>-26.531466</td>\n",
       "      <td>0.000999</td>\n",
       "      <td>0.000057</td>\n",
       "      <td>76.326279</td>\n",
       "      <td>6.589420</td>\n",
       "    </tr>\n",
       "    <tr>\n",
       "      <th>3</th>\n",
       "      <td>0.003750</td>\n",
       "      <td>0.000572</td>\n",
       "      <td>-145.596436</td>\n",
       "      <td>-75.203407</td>\n",
       "      <td>NaN</td>\n",
       "      <td>4</td>\n",
       "      <td>3</td>\n",
       "      <td>{'max_features': 4, 'n_estimators': 3}</td>\n",
       "      <td>13</td>\n",
       "      <td>-23.067540</td>\n",
       "      <td>...</td>\n",
       "      <td>-190.717225</td>\n",
       "      <td>-129.526761</td>\n",
       "      <td>-80.858751</td>\n",
       "      <td>-71.682249</td>\n",
       "      <td>-192.910771</td>\n",
       "      <td>-70.695253</td>\n",
       "      <td>0.000059</td>\n",
       "      <td>0.000008</td>\n",
       "      <td>86.387229</td>\n",
       "      <td>30.617699</td>\n",
       "    </tr>\n",
       "    <tr>\n",
       "      <th>4</th>\n",
       "      <td>0.010328</td>\n",
       "      <td>0.000946</td>\n",
       "      <td>-135.703102</td>\n",
       "      <td>-41.766531</td>\n",
       "      <td>NaN</td>\n",
       "      <td>4</td>\n",
       "      <td>10</td>\n",
       "      <td>{'max_features': 4, 'n_estimators': 10}</td>\n",
       "      <td>7</td>\n",
       "      <td>-34.075922</td>\n",
       "      <td>...</td>\n",
       "      <td>-70.320464</td>\n",
       "      <td>-45.428018</td>\n",
       "      <td>-93.247414</td>\n",
       "      <td>-45.694328</td>\n",
       "      <td>-275.169900</td>\n",
       "      <td>-47.512326</td>\n",
       "      <td>0.000181</td>\n",
       "      <td>0.000048</td>\n",
       "      <td>91.450628</td>\n",
       "      <td>7.941001</td>\n",
       "    </tr>\n",
       "    <tr>\n",
       "      <th>5</th>\n",
       "      <td>0.028328</td>\n",
       "      <td>0.001857</td>\n",
       "      <td>-129.519660</td>\n",
       "      <td>-29.330353</td>\n",
       "      <td>NaN</td>\n",
       "      <td>4</td>\n",
       "      <td>30</td>\n",
       "      <td>{'max_features': 4, 'n_estimators': 30}</td>\n",
       "      <td>5</td>\n",
       "      <td>-34.221930</td>\n",
       "      <td>...</td>\n",
       "      <td>-66.228183</td>\n",
       "      <td>-30.582150</td>\n",
       "      <td>-158.455089</td>\n",
       "      <td>-30.621485</td>\n",
       "      <td>-179.168592</td>\n",
       "      <td>-27.938991</td>\n",
       "      <td>0.000244</td>\n",
       "      <td>0.000047</td>\n",
       "      <td>71.273899</td>\n",
       "      <td>6.493375</td>\n",
       "    </tr>\n",
       "    <tr>\n",
       "      <th>6</th>\n",
       "      <td>0.003806</td>\n",
       "      <td>0.000586</td>\n",
       "      <td>-192.091722</td>\n",
       "      <td>-71.632238</td>\n",
       "      <td>NaN</td>\n",
       "      <td>6</td>\n",
       "      <td>3</td>\n",
       "      <td>{'max_features': 6, 'n_estimators': 3}</td>\n",
       "      <td>18</td>\n",
       "      <td>-51.411077</td>\n",
       "      <td>...</td>\n",
       "      <td>-190.717225</td>\n",
       "      <td>-108.860664</td>\n",
       "      <td>-117.124917</td>\n",
       "      <td>-71.859345</td>\n",
       "      <td>-231.634418</td>\n",
       "      <td>-78.793000</td>\n",
       "      <td>0.000132</td>\n",
       "      <td>0.000017</td>\n",
       "      <td>112.195437</td>\n",
       "      <td>24.508836</td>\n",
       "    </tr>\n",
       "    <tr>\n",
       "      <th>7</th>\n",
       "      <td>0.010821</td>\n",
       "      <td>0.000993</td>\n",
       "      <td>-144.172098</td>\n",
       "      <td>-42.178298</td>\n",
       "      <td>NaN</td>\n",
       "      <td>6</td>\n",
       "      <td>10</td>\n",
       "      <td>{'max_features': 6, 'n_estimators': 10}</td>\n",
       "      <td>11</td>\n",
       "      <td>-30.025507</td>\n",
       "      <td>...</td>\n",
       "      <td>-53.167088</td>\n",
       "      <td>-49.916340</td>\n",
       "      <td>-140.098876</td>\n",
       "      <td>-51.098442</td>\n",
       "      <td>-276.209517</td>\n",
       "      <td>-39.403243</td>\n",
       "      <td>0.000604</td>\n",
       "      <td>0.000044</td>\n",
       "      <td>96.769456</td>\n",
       "      <td>8.395284</td>\n",
       "    </tr>\n",
       "    <tr>\n",
       "      <th>8</th>\n",
       "      <td>0.028369</td>\n",
       "      <td>0.001819</td>\n",
       "      <td>-127.625783</td>\n",
       "      <td>-30.114025</td>\n",
       "      <td>NaN</td>\n",
       "      <td>6</td>\n",
       "      <td>30</td>\n",
       "      <td>{'max_features': 6, 'n_estimators': 30}</td>\n",
       "      <td>4</td>\n",
       "      <td>-37.608637</td>\n",
       "      <td>...</td>\n",
       "      <td>-67.133824</td>\n",
       "      <td>-32.061628</td>\n",
       "      <td>-133.902654</td>\n",
       "      <td>-31.977057</td>\n",
       "      <td>-189.006558</td>\n",
       "      <td>-26.513125</td>\n",
       "      <td>0.000250</td>\n",
       "      <td>0.000030</td>\n",
       "      <td>70.070906</td>\n",
       "      <td>6.935517</td>\n",
       "    </tr>\n",
       "    <tr>\n",
       "      <th>9</th>\n",
       "      <td>0.003713</td>\n",
       "      <td>0.000567</td>\n",
       "      <td>-160.879731</td>\n",
       "      <td>-71.762275</td>\n",
       "      <td>NaN</td>\n",
       "      <td>8</td>\n",
       "      <td>3</td>\n",
       "      <td>{'max_features': 8, 'n_estimators': 3}</td>\n",
       "      <td>16</td>\n",
       "      <td>-23.076484</td>\n",
       "      <td>...</td>\n",
       "      <td>-150.443125</td>\n",
       "      <td>-105.366804</td>\n",
       "      <td>-92.324612</td>\n",
       "      <td>-94.080787</td>\n",
       "      <td>-211.203501</td>\n",
       "      <td>-63.123102</td>\n",
       "      <td>0.000022</td>\n",
       "      <td>0.000005</td>\n",
       "      <td>108.327905</td>\n",
       "      <td>25.738201</td>\n",
       "    </tr>\n",
       "    <tr>\n",
       "      <th>10</th>\n",
       "      <td>0.010157</td>\n",
       "      <td>0.000911</td>\n",
       "      <td>-126.224107</td>\n",
       "      <td>-40.837181</td>\n",
       "      <td>NaN</td>\n",
       "      <td>8</td>\n",
       "      <td>10</td>\n",
       "      <td>{'max_features': 8, 'n_estimators': 10}</td>\n",
       "      <td>2</td>\n",
       "      <td>-25.918233</td>\n",
       "      <td>...</td>\n",
       "      <td>-44.181396</td>\n",
       "      <td>-47.992944</td>\n",
       "      <td>-126.558580</td>\n",
       "      <td>-48.258084</td>\n",
       "      <td>-235.871091</td>\n",
       "      <td>-39.588782</td>\n",
       "      <td>0.000076</td>\n",
       "      <td>0.000015</td>\n",
       "      <td>84.607278</td>\n",
       "      <td>7.355340</td>\n",
       "    </tr>\n",
       "    <tr>\n",
       "      <th>11</th>\n",
       "      <td>0.028686</td>\n",
       "      <td>0.001956</td>\n",
       "      <td>-120.224677</td>\n",
       "      <td>-29.459880</td>\n",
       "      <td>NaN</td>\n",
       "      <td>8</td>\n",
       "      <td>30</td>\n",
       "      <td>{'max_features': 8, 'n_estimators': 30}</td>\n",
       "      <td>1</td>\n",
       "      <td>-33.426104</td>\n",
       "      <td>...</td>\n",
       "      <td>-51.815454</td>\n",
       "      <td>-32.007917</td>\n",
       "      <td>-139.526090</td>\n",
       "      <td>-30.776074</td>\n",
       "      <td>-174.718801</td>\n",
       "      <td>-27.474058</td>\n",
       "      <td>0.000569</td>\n",
       "      <td>0.000238</td>\n",
       "      <td>69.281182</td>\n",
       "      <td>7.450127</td>\n",
       "    </tr>\n",
       "    <tr>\n",
       "      <th>12</th>\n",
       "      <td>0.003746</td>\n",
       "      <td>0.000713</td>\n",
       "      <td>-160.016065</td>\n",
       "      <td>-1.554144</td>\n",
       "      <td>False</td>\n",
       "      <td>2</td>\n",
       "      <td>3</td>\n",
       "      <td>{'bootstrap': False, 'max_features': 2, 'n_est...</td>\n",
       "      <td>14</td>\n",
       "      <td>-33.876731</td>\n",
       "      <td>...</td>\n",
       "      <td>-205.108742</td>\n",
       "      <td>-2.560411</td>\n",
       "      <td>-159.888186</td>\n",
       "      <td>-1.397076</td>\n",
       "      <td>-215.691844</td>\n",
       "      <td>-2.560411</td>\n",
       "      <td>0.000160</td>\n",
       "      <td>0.000153</td>\n",
       "      <td>72.480950</td>\n",
       "      <td>0.954565</td>\n",
       "    </tr>\n",
       "    <tr>\n",
       "      <th>13</th>\n",
       "      <td>0.010314</td>\n",
       "      <td>0.000992</td>\n",
       "      <td>-160.023575</td>\n",
       "      <td>-1.554144</td>\n",
       "      <td>False</td>\n",
       "      <td>2</td>\n",
       "      <td>10</td>\n",
       "      <td>{'bootstrap': False, 'max_features': 2, 'n_est...</td>\n",
       "      <td>15</td>\n",
       "      <td>-68.350787</td>\n",
       "      <td>...</td>\n",
       "      <td>-198.210237</td>\n",
       "      <td>-2.560411</td>\n",
       "      <td>-138.260988</td>\n",
       "      <td>-1.397076</td>\n",
       "      <td>-255.693533</td>\n",
       "      <td>-2.560411</td>\n",
       "      <td>0.000362</td>\n",
       "      <td>0.000065</td>\n",
       "      <td>62.825854</td>\n",
       "      <td>0.954565</td>\n",
       "    </tr>\n",
       "    <tr>\n",
       "      <th>14</th>\n",
       "      <td>0.003679</td>\n",
       "      <td>0.000578</td>\n",
       "      <td>-145.371403</td>\n",
       "      <td>-1.554144</td>\n",
       "      <td>False</td>\n",
       "      <td>3</td>\n",
       "      <td>3</td>\n",
       "      <td>{'bootstrap': False, 'max_features': 3, 'n_est...</td>\n",
       "      <td>12</td>\n",
       "      <td>-37.678467</td>\n",
       "      <td>...</td>\n",
       "      <td>-192.909261</td>\n",
       "      <td>-2.560411</td>\n",
       "      <td>-109.592411</td>\n",
       "      <td>-1.397076</td>\n",
       "      <td>-237.333977</td>\n",
       "      <td>-2.560411</td>\n",
       "      <td>0.000107</td>\n",
       "      <td>0.000011</td>\n",
       "      <td>71.108391</td>\n",
       "      <td>0.954565</td>\n",
       "    </tr>\n",
       "    <tr>\n",
       "      <th>15</th>\n",
       "      <td>0.009777</td>\n",
       "      <td>0.000906</td>\n",
       "      <td>-131.541724</td>\n",
       "      <td>-1.554144</td>\n",
       "      <td>False</td>\n",
       "      <td>3</td>\n",
       "      <td>10</td>\n",
       "      <td>{'bootstrap': False, 'max_features': 3, 'n_est...</td>\n",
       "      <td>6</td>\n",
       "      <td>-30.918959</td>\n",
       "      <td>...</td>\n",
       "      <td>-154.160000</td>\n",
       "      <td>-2.560411</td>\n",
       "      <td>-132.250281</td>\n",
       "      <td>-1.397076</td>\n",
       "      <td>-210.580631</td>\n",
       "      <td>-2.560411</td>\n",
       "      <td>0.000066</td>\n",
       "      <td>0.000012</td>\n",
       "      <td>60.901304</td>\n",
       "      <td>0.954565</td>\n",
       "    </tr>\n",
       "    <tr>\n",
       "      <th>16</th>\n",
       "      <td>0.003695</td>\n",
       "      <td>0.000638</td>\n",
       "      <td>-142.624565</td>\n",
       "      <td>-1.554144</td>\n",
       "      <td>False</td>\n",
       "      <td>4</td>\n",
       "      <td>3</td>\n",
       "      <td>{'bootstrap': False, 'max_features': 4, 'n_est...</td>\n",
       "      <td>9</td>\n",
       "      <td>-96.019779</td>\n",
       "      <td>...</td>\n",
       "      <td>-164.834642</td>\n",
       "      <td>-2.560411</td>\n",
       "      <td>-177.892094</td>\n",
       "      <td>-1.397076</td>\n",
       "      <td>-99.270070</td>\n",
       "      <td>-2.560411</td>\n",
       "      <td>0.000067</td>\n",
       "      <td>0.000054</td>\n",
       "      <td>38.137296</td>\n",
       "      <td>0.954565</td>\n",
       "    </tr>\n",
       "    <tr>\n",
       "      <th>17</th>\n",
       "      <td>0.010555</td>\n",
       "      <td>0.001013</td>\n",
       "      <td>-142.585037</td>\n",
       "      <td>-1.554144</td>\n",
       "      <td>False</td>\n",
       "      <td>4</td>\n",
       "      <td>10</td>\n",
       "      <td>{'bootstrap': False, 'max_features': 4, 'n_est...</td>\n",
       "      <td>8</td>\n",
       "      <td>-69.092395</td>\n",
       "      <td>...</td>\n",
       "      <td>-151.171606</td>\n",
       "      <td>-2.560411</td>\n",
       "      <td>-147.297631</td>\n",
       "      <td>-1.397076</td>\n",
       "      <td>-203.654139</td>\n",
       "      <td>-2.560411</td>\n",
       "      <td>0.000199</td>\n",
       "      <td>0.000037</td>\n",
       "      <td>44.941977</td>\n",
       "      <td>0.954565</td>\n",
       "    </tr>\n",
       "  </tbody>\n",
       "</table>\n",
       "<p>18 rows × 23 columns</p>\n",
       "</div>"
      ],
      "text/plain": [
       "    mean_fit_time  mean_score_time  mean_test_score  mean_train_score  \\\n",
       "0        0.004724         0.000844      -168.681970        -76.477072   \n",
       "1        0.012911         0.001325      -143.912262        -45.593414   \n",
       "2        0.029653         0.001887      -126.955526        -29.645869   \n",
       "3        0.003750         0.000572      -145.596436        -75.203407   \n",
       "4        0.010328         0.000946      -135.703102        -41.766531   \n",
       "5        0.028328         0.001857      -129.519660        -29.330353   \n",
       "6        0.003806         0.000586      -192.091722        -71.632238   \n",
       "7        0.010821         0.000993      -144.172098        -42.178298   \n",
       "8        0.028369         0.001819      -127.625783        -30.114025   \n",
       "9        0.003713         0.000567      -160.879731        -71.762275   \n",
       "10       0.010157         0.000911      -126.224107        -40.837181   \n",
       "11       0.028686         0.001956      -120.224677        -29.459880   \n",
       "12       0.003746         0.000713      -160.016065         -1.554144   \n",
       "13       0.010314         0.000992      -160.023575         -1.554144   \n",
       "14       0.003679         0.000578      -145.371403         -1.554144   \n",
       "15       0.009777         0.000906      -131.541724         -1.554144   \n",
       "16       0.003695         0.000638      -142.624565         -1.554144   \n",
       "17       0.010555         0.001013      -142.585037         -1.554144   \n",
       "\n",
       "   param_bootstrap param_max_features param_n_estimators  \\\n",
       "0              NaN                  2                  3   \n",
       "1              NaN                  2                 10   \n",
       "2              NaN                  2                 30   \n",
       "3              NaN                  4                  3   \n",
       "4              NaN                  4                 10   \n",
       "5              NaN                  4                 30   \n",
       "6              NaN                  6                  3   \n",
       "7              NaN                  6                 10   \n",
       "8              NaN                  6                 30   \n",
       "9              NaN                  8                  3   \n",
       "10             NaN                  8                 10   \n",
       "11             NaN                  8                 30   \n",
       "12           False                  2                  3   \n",
       "13           False                  2                 10   \n",
       "14           False                  3                  3   \n",
       "15           False                  3                 10   \n",
       "16           False                  4                  3   \n",
       "17           False                  4                 10   \n",
       "\n",
       "                                               params  rank_test_score  \\\n",
       "0              {'max_features': 2, 'n_estimators': 3}               17   \n",
       "1             {'max_features': 2, 'n_estimators': 10}               10   \n",
       "2             {'max_features': 2, 'n_estimators': 30}                3   \n",
       "3              {'max_features': 4, 'n_estimators': 3}               13   \n",
       "4             {'max_features': 4, 'n_estimators': 10}                7   \n",
       "5             {'max_features': 4, 'n_estimators': 30}                5   \n",
       "6              {'max_features': 6, 'n_estimators': 3}               18   \n",
       "7             {'max_features': 6, 'n_estimators': 10}               11   \n",
       "8             {'max_features': 6, 'n_estimators': 30}                4   \n",
       "9              {'max_features': 8, 'n_estimators': 3}               16   \n",
       "10            {'max_features': 8, 'n_estimators': 10}                2   \n",
       "11            {'max_features': 8, 'n_estimators': 30}                1   \n",
       "12  {'bootstrap': False, 'max_features': 2, 'n_est...               14   \n",
       "13  {'bootstrap': False, 'max_features': 2, 'n_est...               15   \n",
       "14  {'bootstrap': False, 'max_features': 3, 'n_est...               12   \n",
       "15  {'bootstrap': False, 'max_features': 3, 'n_est...                6   \n",
       "16  {'bootstrap': False, 'max_features': 4, 'n_est...                9   \n",
       "17  {'bootstrap': False, 'max_features': 4, 'n_est...                8   \n",
       "\n",
       "    split0_test_score       ...         split2_test_score  split2_train_score  \\\n",
       "0          -19.325716       ...               -130.235501          -90.710314   \n",
       "1          -15.946010       ...                -57.667958          -52.928586   \n",
       "2          -17.737776       ...                -71.866777          -32.269930   \n",
       "3          -23.067540       ...               -190.717225         -129.526761   \n",
       "4          -34.075922       ...                -70.320464          -45.428018   \n",
       "5          -34.221930       ...                -66.228183          -30.582150   \n",
       "6          -51.411077       ...               -190.717225         -108.860664   \n",
       "7          -30.025507       ...                -53.167088          -49.916340   \n",
       "8          -37.608637       ...                -67.133824          -32.061628   \n",
       "9          -23.076484       ...               -150.443125         -105.366804   \n",
       "10         -25.918233       ...                -44.181396          -47.992944   \n",
       "11         -33.426104       ...                -51.815454          -32.007917   \n",
       "12         -33.876731       ...               -205.108742           -2.560411   \n",
       "13         -68.350787       ...               -198.210237           -2.560411   \n",
       "14         -37.678467       ...               -192.909261           -2.560411   \n",
       "15         -30.918959       ...               -154.160000           -2.560411   \n",
       "16         -96.019779       ...               -164.834642           -2.560411   \n",
       "17         -69.092395       ...               -151.171606           -2.560411   \n",
       "\n",
       "    split3_test_score  split3_train_score  split4_test_score  \\\n",
       "0          -73.055369         -107.412952        -388.177552   \n",
       "1         -127.776832          -49.438882        -346.827858   \n",
       "2         -151.792338          -29.607755        -213.002746   \n",
       "3          -80.858751          -71.682249        -192.910771   \n",
       "4          -93.247414          -45.694328        -275.169900   \n",
       "5         -158.455089          -30.621485        -179.168592   \n",
       "6         -117.124917          -71.859345        -231.634418   \n",
       "7         -140.098876          -51.098442        -276.209517   \n",
       "8         -133.902654          -31.977057        -189.006558   \n",
       "9          -92.324612          -94.080787        -211.203501   \n",
       "10        -126.558580          -48.258084        -235.871091   \n",
       "11        -139.526090          -30.776074        -174.718801   \n",
       "12        -159.888186           -1.397076        -215.691844   \n",
       "13        -138.260988           -1.397076        -255.693533   \n",
       "14        -109.592411           -1.397076        -237.333977   \n",
       "15        -132.250281           -1.397076        -210.580631   \n",
       "16        -177.892094           -1.397076         -99.270070   \n",
       "17        -147.297631           -1.397076        -203.654139   \n",
       "\n",
       "    split4_train_score  std_fit_time  std_score_time  std_test_score  \\\n",
       "0           -87.747086      0.000300        0.000133      131.670028   \n",
       "1           -46.072892      0.001758        0.000215      114.576716   \n",
       "2           -26.531466      0.000999        0.000057       76.326279   \n",
       "3           -70.695253      0.000059        0.000008       86.387229   \n",
       "4           -47.512326      0.000181        0.000048       91.450628   \n",
       "5           -27.938991      0.000244        0.000047       71.273899   \n",
       "6           -78.793000      0.000132        0.000017      112.195437   \n",
       "7           -39.403243      0.000604        0.000044       96.769456   \n",
       "8           -26.513125      0.000250        0.000030       70.070906   \n",
       "9           -63.123102      0.000022        0.000005      108.327905   \n",
       "10          -39.588782      0.000076        0.000015       84.607278   \n",
       "11          -27.474058      0.000569        0.000238       69.281182   \n",
       "12           -2.560411      0.000160        0.000153       72.480950   \n",
       "13           -2.560411      0.000362        0.000065       62.825854   \n",
       "14           -2.560411      0.000107        0.000011       71.108391   \n",
       "15           -2.560411      0.000066        0.000012       60.901304   \n",
       "16           -2.560411      0.000067        0.000054       38.137296   \n",
       "17           -2.560411      0.000199        0.000037       44.941977   \n",
       "\n",
       "    std_train_score  \n",
       "0         26.259253  \n",
       "1          5.680859  \n",
       "2          6.589420  \n",
       "3         30.617699  \n",
       "4          7.941001  \n",
       "5          6.493375  \n",
       "6         24.508836  \n",
       "7          8.395284  \n",
       "8          6.935517  \n",
       "9         25.738201  \n",
       "10         7.355340  \n",
       "11         7.450127  \n",
       "12         0.954565  \n",
       "13         0.954565  \n",
       "14         0.954565  \n",
       "15         0.954565  \n",
       "16         0.954565  \n",
       "17         0.954565  \n",
       "\n",
       "[18 rows x 23 columns]"
      ]
     },
     "execution_count": 171,
     "metadata": {},
     "output_type": "execute_result"
    }
   ],
   "source": [
    "pd.DataFrame(grid_search.cv_results_)"
   ]
  },
  {
   "cell_type": "code",
   "execution_count": 172,
   "metadata": {},
   "outputs": [
    {
     "data": {
      "text/plain": [
       "RandomizedSearchCV(cv=5, error_score='raise',\n",
       "          estimator=RandomForestRegressor(bootstrap=True, criterion='mse', max_depth=None,\n",
       "           max_features='auto', max_leaf_nodes=None,\n",
       "           min_impurity_decrease=0.0, min_impurity_split=None,\n",
       "           min_samples_leaf=1, min_samples_split=2,\n",
       "           min_weight_fraction_leaf=0.0, n_estimators=10, n_jobs=1,\n",
       "           oob_score=False, random_state=42, verbose=0, warm_start=False),\n",
       "          fit_params=None, iid=True, n_iter=10, n_jobs=1,\n",
       "          param_distributions={'n_estimators': <scipy.stats._distn_infrastructure.rv_frozen object at 0x7f0a97445518>, 'max_features': <scipy.stats._distn_infrastructure.rv_frozen object at 0x7f0a97445278>},\n",
       "          pre_dispatch='2*n_jobs', random_state=42, refit=True,\n",
       "          return_train_score='warn', scoring='neg_mean_squared_error',\n",
       "          verbose=0)"
      ]
     },
     "execution_count": 172,
     "metadata": {},
     "output_type": "execute_result"
    }
   ],
   "source": [
    "from sklearn.model_selection import RandomizedSearchCV\n",
    "from scipy.stats import randint\n",
    "\n",
    "param_distribs = {\n",
    "        'n_estimators': randint(low=1, high=200),\n",
    "        'max_features': randint(low=1, high=8),\n",
    "    }\n",
    "\n",
    "forest_reg = RandomForestRegressor(random_state=42)\n",
    "rnd_search = RandomizedSearchCV(forest_reg, param_distributions=param_distribs,\n",
    "                                n_iter=10, cv=5, scoring='neg_mean_squared_error', random_state=42)\n",
    "rnd_search.fit(X_validation, Y_validation)"
   ]
  },
  {
   "cell_type": "code",
   "execution_count": 173,
   "metadata": {},
   "outputs": [
    {
     "name": "stdout",
     "output_type": "stream",
     "text": [
      "11.151164343138566 {'max_features': 7, 'n_estimators': 180}\n",
      "11.3080223351143 {'max_features': 5, 'n_estimators': 15}\n",
      "11.831692047341036 {'max_features': 3, 'n_estimators': 72}\n",
      "11.218961774079403 {'max_features': 5, 'n_estimators': 21}\n",
      "11.177195533444383 {'max_features': 7, 'n_estimators': 122}\n",
      "11.852418211881057 {'max_features': 3, 'n_estimators': 75}\n",
      "11.722569771336625 {'max_features': 3, 'n_estimators': 88}\n",
      "11.328062710073551 {'max_features': 5, 'n_estimators': 100}\n",
      "11.569629347322198 {'max_features': 3, 'n_estimators': 150}\n",
      "13.926475362090542 {'max_features': 5, 'n_estimators': 2}\n"
     ]
    }
   ],
   "source": [
    "cvres = rnd_search.cv_results_\n",
    "for mean_score, params in zip(cvres[\"mean_test_score\"], cvres[\"params\"]):\n",
    "    print(np.sqrt(-mean_score), params)"
   ]
  },
  {
   "cell_type": "markdown",
   "metadata": {},
   "source": [
    "# Memo"
   ]
  },
  {
   "cell_type": "markdown",
   "metadata": {},
   "source": [
    "Dear Manager,\n",
    "\n",
    "Based on our results we have determined that the idea of looking at what makes certain candy better than others requires some more time, effort, and data. We need more features to improve the accuracy of the training models. We have found that the Linear and Tree regressors are better than the Random forest regressor based on the difference between estimated win percent and actual win percent. I assure you once I recieve more data, the estimations will be more close to what is real and we can hopefully move on to testing new candy with our model. "
   ]
  },
  {
   "cell_type": "markdown",
   "metadata": {},
   "source": [
    "# Future"
   ]
  },
  {
   "cell_type": "markdown",
   "metadata": {},
   "source": [
    "This project has thrown me into the pool of machine learning and data science very deep and although I have learned way more than I could have imagined, my results are not enough to say that I'm done. I need more data, mainly features. The more features I have I think the better my models will run. It means there is more information available to map out and correlate. As of now the chocolate feature is the only feature that strongly correlates to win percent, so maybe take a look at other types of ingrediants that may influence the winpercent. My Linear and Tree Regressor models have high hopes for the future since they yeilded the least error, but the RandomForest Regressor wasn't off by too much either so maybe I can fine tune that at a later time. I am not entirely satisfied with my system. I want at most a 5 points difference between estimated and actual. That means my models need to improve by atleast 50%. "
   ]
  },
  {
   "cell_type": "code",
   "execution_count": null,
   "metadata": {},
   "outputs": [],
   "source": []
  }
 ],
 "metadata": {
  "kernelspec": {
   "display_name": "Python 3",
   "language": "python",
   "name": "python3"
  },
  "language_info": {
   "codemirror_mode": {
    "name": "ipython",
    "version": 3
   },
   "file_extension": ".py",
   "mimetype": "text/x-python",
   "name": "python",
   "nbconvert_exporter": "python",
   "pygments_lexer": "ipython3",
   "version": "3.6.4"
  }
 },
 "nbformat": 4,
 "nbformat_minor": 2
}
